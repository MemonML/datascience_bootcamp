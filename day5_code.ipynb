{
 "cells": [
  {
   "cell_type": "code",
   "execution_count": 10,
   "id": "1f068237",
   "metadata": {},
   "outputs": [
    {
     "name": "stdout",
     "output_type": "stream",
     "text": [
      "My First Name is Mudasar and My second name is Latif\n"
     ]
    }
   ],
   "source": [
    "# Interpolation\n",
    "\n",
    "first_name='Mudasar'\n",
    "last_name='Latif'\n",
    "print(f'My First Name is {first_name} and My second name is {last_name}' )"
   ]
  },
  {
   "cell_type": "code",
   "execution_count": 3,
   "id": "c272f4d5",
   "metadata": {},
   "outputs": [
    {
     "name": "stdout",
     "output_type": "stream",
     "text": [
      "12 multiply 3 is 36.\n"
     ]
    }
   ],
   "source": [
    "a=12\n",
    "b=3\n",
    "print(f'12 multiply 3 is {a*b}.')"
   ]
  },
  {
   "cell_type": "code",
   "execution_count": 16,
   "id": "f5c35bc4",
   "metadata": {},
   "outputs": [
    {
     "name": "stdout",
     "output_type": "stream",
     "text": [
      "%s %s %{'Hello','World'}\n"
     ]
    }
   ],
   "source": [
    "print(\"%s %s %('Hello','World')\")"
   ]
  },
  {
   "cell_type": "code",
   "execution_count": 13,
   "id": "5145980d",
   "metadata": {},
   "outputs": [
    {
     "name": "stdout",
     "output_type": "stream",
     "text": [
      " Hello world This is python \n"
     ]
    }
   ],
   "source": [
    "name= 'world'\n",
    "program= 'python'\n",
    "print (' Hello %s This is %s '%(name, program))"
   ]
  },
  {
   "cell_type": "code",
   "execution_count": 15,
   "id": "586bacb4",
   "metadata": {},
   "outputs": [
    {
     "name": "stdout",
     "output_type": "stream",
     "text": [
      "Hello, world\n"
     ]
    }
   ],
   "source": [
    "# String Format\n",
    "name='world'\n",
    "print('Hello, {}'.format(name))"
   ]
  },
  {
   "cell_type": "code",
   "execution_count": 21,
   "id": "3f7f71df",
   "metadata": {},
   "outputs": [
    {
     "name": "stdout",
     "output_type": "stream",
     "text": [
      "[('java', 14), ('python', 3), ('javascript', 6)]\n"
     ]
    },
    {
     "data": {
      "text/plain": [
       "zip"
      ]
     },
     "execution_count": 21,
     "metadata": {},
     "output_type": "execute_result"
    }
   ],
   "source": [
    "# Zip Function\n",
    "languages=['java','python','javascript']\n",
    "versions=[14,3,6]\n",
    "result= zip(languages, versions)\n",
    "print(list(result))\n",
    "type(result)"
   ]
  },
  {
   "cell_type": "code",
   "execution_count": 23,
   "id": "c6acfdc1",
   "metadata": {},
   "outputs": [
    {
     "name": "stdout",
     "output_type": "stream",
     "text": [
      "(('java', 14), ('python', 3), ('javascript', 6))\n"
     ]
    },
    {
     "data": {
      "text/plain": [
       "zip"
      ]
     },
     "execution_count": 23,
     "metadata": {},
     "output_type": "execute_result"
    }
   ],
   "source": [
    "# Zip Function\n",
    "languages=['java','python','javascript']\n",
    "versions=[14,3,6]\n",
    "result= zip(languages, versions)\n",
    "print(tuple(result))\n",
    "type(result)"
   ]
  },
  {
   "cell_type": "code",
   "execution_count": 24,
   "id": "7650c340",
   "metadata": {},
   "outputs": [],
   "source": [
    "# Pandas for Data Manuplation, Data Analysis\n",
    "\n",
    "#series= I d- column\n",
    "#data frame= 2D- data\n",
    "#panel = sheets in excel"
   ]
  },
  {
   "cell_type": "code",
   "execution_count": 31,
   "id": "874363c4",
   "metadata": {},
   "outputs": [
    {
     "name": "stdout",
     "output_type": "stream",
     "text": [
      "Collecting package metadata (current_repodata.json): ...working... done\n",
      "Solving environment: ...working... done\n",
      "\n",
      "# All requested packages already installed.\n",
      "\n",
      "Collecting package metadata (current_repodata.json): ...working... done\n",
      "Solving environment: ...working... done\n",
      "\n",
      "# All requested packages already installed.\n",
      "\n",
      "\n",
      "Note: you may need to restart the kernel to use updated packages.\n"
     ]
    }
   ],
   "source": [
    "conda install pandas"
   ]
  },
  {
   "cell_type": "code",
   "execution_count": 38,
   "id": "732be709",
   "metadata": {},
   "outputs": [
    {
     "name": "stdout",
     "output_type": "stream",
     "text": [
      "a    145\n",
      "b    142\n",
      "c     38\n",
      "d     13\n",
      "Name: counts, dtype: int64\n"
     ]
    }
   ],
   "source": [
    "import pandas as pd\n",
    "ser1= pd.Series (data= [145,142,38,13], index=['a','b','c','d'], name='counts')\n",
    "print(ser1)"
   ]
  },
  {
   "cell_type": "code",
   "execution_count": 39,
   "id": "e027f391",
   "metadata": {},
   "outputs": [
    {
     "name": "stdout",
     "output_type": "stream",
     "text": [
      "0    145\n",
      "1    142\n",
      "2     38\n",
      "3     13\n",
      "Name: counts, dtype: int64\n"
     ]
    }
   ],
   "source": [
    "import pandas as pd\n",
    "ser1= pd.Series (data= [145,142,38,13], name='counts')\n",
    "print(ser1)"
   ]
  },
  {
   "cell_type": "code",
   "execution_count": 41,
   "id": "26bc42aa",
   "metadata": {},
   "outputs": [
    {
     "name": "stdout",
     "output_type": "stream",
     "text": [
      "0    145\n",
      "1    142\n",
      "2     38\n",
      "3     13\n",
      "dtype: int64\n"
     ]
    }
   ],
   "source": [
    "import pandas as pd\n",
    "ser1= pd.Series (data= [145,142,38,13])\n",
    "print(ser1)"
   ]
  },
  {
   "cell_type": "code",
   "execution_count": 43,
   "id": "fc86c59e",
   "metadata": {},
   "outputs": [
    {
     "name": "stdout",
     "output_type": "stream",
     "text": [
      "0    145\n",
      "1    142\n",
      "2     38\n",
      "3     13\n",
      "dtype: int64\n"
     ]
    }
   ],
   "source": [
    "import pandas as pd\n",
    "ser1= pd.Series (data= [145,142,38,13])\n",
    "print(ser1)"
   ]
  },
  {
   "cell_type": "code",
   "execution_count": 45,
   "id": "cb61e70a",
   "metadata": {},
   "outputs": [
    {
     "data": {
      "text/plain": [
       "0     True\n",
       "1     True\n",
       "2    False\n",
       "3    False\n",
       "dtype: bool"
      ]
     },
     "execution_count": 45,
     "metadata": {},
     "output_type": "execute_result"
    }
   ],
   "source": [
    "mask=ser1>ser1.median()\n",
    "mask"
   ]
  },
  {
   "cell_type": "code",
   "execution_count": 46,
   "id": "f58c93e8",
   "metadata": {},
   "outputs": [],
   "source": [
    "# Series CRUD /Create Read Update Delete (CRUD)"
   ]
  },
  {
   "cell_type": "code",
   "execution_count": 51,
   "id": "82f264de",
   "metadata": {},
   "outputs": [
    {
     "name": "stdout",
     "output_type": "stream",
     "text": [
      "0      145\n",
      "1      142\n",
      "2        6\n",
      "3       13\n",
      "142      3\n",
      "dtype: int64\n"
     ]
    }
   ],
   "source": [
    "# Adding a custom index\n",
    "george_dupe=pd.Series (data= [145,142,38,13])\n",
    "george_dupe[2]=6\n",
    "george_dupe['142']=3\n",
    "print(george_dupe)"
   ]
  },
  {
   "cell_type": "code",
   "execution_count": 53,
   "id": "e591c3bb",
   "metadata": {},
   "outputs": [
    {
     "ename": "KeyError",
     "evalue": "'142'",
     "output_type": "error",
     "traceback": [
      "\u001b[1;31m---------------------------------------------------------------------------\u001b[0m",
      "\u001b[1;31mKeyError\u001b[0m                                  Traceback (most recent call last)",
      "File \u001b[1;32m~\\anaconda3\\Lib\\site-packages\\pandas\\core\\indexes\\base.py:3802\u001b[0m, in \u001b[0;36mIndex.get_loc\u001b[1;34m(self, key, method, tolerance)\u001b[0m\n\u001b[0;32m   3801\u001b[0m \u001b[38;5;28;01mtry\u001b[39;00m:\n\u001b[1;32m-> 3802\u001b[0m     \u001b[38;5;28;01mreturn\u001b[39;00m \u001b[38;5;28mself\u001b[39m\u001b[38;5;241m.\u001b[39m_engine\u001b[38;5;241m.\u001b[39mget_loc(casted_key)\n\u001b[0;32m   3803\u001b[0m \u001b[38;5;28;01mexcept\u001b[39;00m \u001b[38;5;167;01mKeyError\u001b[39;00m \u001b[38;5;28;01mas\u001b[39;00m err:\n",
      "File \u001b[1;32m~\\anaconda3\\Lib\\site-packages\\pandas\\_libs\\index.pyx:138\u001b[0m, in \u001b[0;36mpandas._libs.index.IndexEngine.get_loc\u001b[1;34m()\u001b[0m\n",
      "File \u001b[1;32m~\\anaconda3\\Lib\\site-packages\\pandas\\_libs\\index.pyx:165\u001b[0m, in \u001b[0;36mpandas._libs.index.IndexEngine.get_loc\u001b[1;34m()\u001b[0m\n",
      "File \u001b[1;32mpandas\\_libs\\hashtable_class_helper.pxi:5745\u001b[0m, in \u001b[0;36mpandas._libs.hashtable.PyObjectHashTable.get_item\u001b[1;34m()\u001b[0m\n",
      "File \u001b[1;32mpandas\\_libs\\hashtable_class_helper.pxi:5753\u001b[0m, in \u001b[0;36mpandas._libs.hashtable.PyObjectHashTable.get_item\u001b[1;34m()\u001b[0m\n",
      "\u001b[1;31mKeyError\u001b[0m: '142'",
      "\nThe above exception was the direct cause of the following exception:\n",
      "\u001b[1;31mKeyError\u001b[0m                                  Traceback (most recent call last)",
      "Cell \u001b[1;32mIn[53], line 2\u001b[0m\n\u001b[0;32m      1\u001b[0m \u001b[38;5;66;03m# Deletion\u001b[39;00m\n\u001b[1;32m----> 2\u001b[0m \u001b[38;5;28;01mdel\u001b[39;00m george_dupe[\u001b[38;5;124m'\u001b[39m\u001b[38;5;124m142\u001b[39m\u001b[38;5;124m'\u001b[39m]\n\u001b[0;32m      3\u001b[0m \u001b[38;5;28mprint\u001b[39m(george_dupe)\n",
      "File \u001b[1;32m~\\anaconda3\\Lib\\site-packages\\pandas\\core\\generic.py:4243\u001b[0m, in \u001b[0;36mNDFrame.__delitem__\u001b[1;34m(self, key)\u001b[0m\n\u001b[0;32m   4238\u001b[0m             deleted \u001b[38;5;241m=\u001b[39m \u001b[38;5;28;01mTrue\u001b[39;00m\n\u001b[0;32m   4239\u001b[0m \u001b[38;5;28;01mif\u001b[39;00m \u001b[38;5;129;01mnot\u001b[39;00m deleted:\n\u001b[0;32m   4240\u001b[0m     \u001b[38;5;66;03m# If the above loop ran and didn't delete anything because\u001b[39;00m\n\u001b[0;32m   4241\u001b[0m     \u001b[38;5;66;03m# there was no match, this call should raise the appropriate\u001b[39;00m\n\u001b[0;32m   4242\u001b[0m     \u001b[38;5;66;03m# exception:\u001b[39;00m\n\u001b[1;32m-> 4243\u001b[0m     loc \u001b[38;5;241m=\u001b[39m \u001b[38;5;28mself\u001b[39m\u001b[38;5;241m.\u001b[39maxes[\u001b[38;5;241m-\u001b[39m\u001b[38;5;241m1\u001b[39m]\u001b[38;5;241m.\u001b[39mget_loc(key)\n\u001b[0;32m   4244\u001b[0m     \u001b[38;5;28mself\u001b[39m\u001b[38;5;241m.\u001b[39m_mgr \u001b[38;5;241m=\u001b[39m \u001b[38;5;28mself\u001b[39m\u001b[38;5;241m.\u001b[39m_mgr\u001b[38;5;241m.\u001b[39midelete(loc)\n\u001b[0;32m   4246\u001b[0m \u001b[38;5;66;03m# delete from the caches\u001b[39;00m\n",
      "File \u001b[1;32m~\\anaconda3\\Lib\\site-packages\\pandas\\core\\indexes\\base.py:3804\u001b[0m, in \u001b[0;36mIndex.get_loc\u001b[1;34m(self, key, method, tolerance)\u001b[0m\n\u001b[0;32m   3802\u001b[0m     \u001b[38;5;28;01mreturn\u001b[39;00m \u001b[38;5;28mself\u001b[39m\u001b[38;5;241m.\u001b[39m_engine\u001b[38;5;241m.\u001b[39mget_loc(casted_key)\n\u001b[0;32m   3803\u001b[0m \u001b[38;5;28;01mexcept\u001b[39;00m \u001b[38;5;167;01mKeyError\u001b[39;00m \u001b[38;5;28;01mas\u001b[39;00m err:\n\u001b[1;32m-> 3804\u001b[0m     \u001b[38;5;28;01mraise\u001b[39;00m \u001b[38;5;167;01mKeyError\u001b[39;00m(key) \u001b[38;5;28;01mfrom\u001b[39;00m \u001b[38;5;21;01merr\u001b[39;00m\n\u001b[0;32m   3805\u001b[0m \u001b[38;5;28;01mexcept\u001b[39;00m \u001b[38;5;167;01mTypeError\u001b[39;00m:\n\u001b[0;32m   3806\u001b[0m     \u001b[38;5;66;03m# If we have a listlike key, _check_indexing_error will raise\u001b[39;00m\n\u001b[0;32m   3807\u001b[0m     \u001b[38;5;66;03m#  InvalidIndexError. Otherwise we fall through and re-raise\u001b[39;00m\n\u001b[0;32m   3808\u001b[0m     \u001b[38;5;66;03m#  the TypeError.\u001b[39;00m\n\u001b[0;32m   3809\u001b[0m     \u001b[38;5;28mself\u001b[39m\u001b[38;5;241m.\u001b[39m_check_indexing_error(key)\n",
      "\u001b[1;31mKeyError\u001b[0m: '142'"
     ]
    }
   ],
   "source": [
    "# Deletion\n",
    "del george_dupe['142']\n",
    "print(george_dupe)"
   ]
  },
  {
   "cell_type": "code",
   "execution_count": 68,
   "id": "48bd3341",
   "metadata": {},
   "outputs": [
    {
     "name": "stdout",
     "output_type": "stream",
     "text": [
      "1968    145\n",
      "1969    142\n",
      "6        38\n",
      "9        13\n",
      "Name: Mudasar, dtype: int64\n"
     ]
    }
   ],
   "source": [
    "# series with custom index\n",
    "george_dupe=pd.Series (data= [145,142,38,13], index=['1968','1969', 6, 9], name= ('Mudasar'))\n",
    "print(george_dupe)"
   ]
  },
  {
   "cell_type": "code",
   "execution_count": 69,
   "id": "14e41527",
   "metadata": {},
   "outputs": [
    {
     "data": {
      "text/plain": [
       "True"
      ]
     },
     "execution_count": 69,
     "metadata": {},
     "output_type": "execute_result"
    }
   ],
   "source": [
    "# if index is unique\n",
    "george_dupe.index.is_unique"
   ]
  },
  {
   "cell_type": "code",
   "execution_count": 89,
   "id": "f350773c",
   "metadata": {},
   "outputs": [
    {
     "name": "stdout",
     "output_type": "stream",
     "text": [
      "1968    145\n",
      "1969    142\n",
      "9        38\n",
      "8        13\n",
      "Name: Mudasar, dtype: int64\n"
     ]
    }
   ],
   "source": [
    "# series with custom index\n",
    "series3=pd.Series (data= [145,142,38,13], index=['1968','1969', 9, 8], name= ('Mudasar'))\n",
    "print(series3)"
   ]
  },
  {
   "cell_type": "code",
   "execution_count": 90,
   "id": "52ac609b",
   "metadata": {},
   "outputs": [
    {
     "data": {
      "text/plain": [
       "True"
      ]
     },
     "execution_count": 90,
     "metadata": {},
     "output_type": "execute_result"
    }
   ],
   "source": [
    "# index is not unique \n",
    "series3.index.is_unique"
   ]
  },
  {
   "cell_type": "code",
   "execution_count": 91,
   "id": "12ca82aa",
   "metadata": {},
   "outputs": [
    {
     "data": {
      "text/plain": [
       "9    38\n",
       "8    13\n",
       "Name: Mudasar, dtype: int64"
      ]
     },
     "execution_count": 91,
     "metadata": {},
     "output_type": "execute_result"
    }
   ],
   "source": [
    "series3[2::]"
   ]
  },
  {
   "cell_type": "code",
   "execution_count": 92,
   "id": "32d34732",
   "metadata": {},
   "outputs": [
    {
     "data": {
      "text/plain": [
       "142"
      ]
     },
     "execution_count": 92,
     "metadata": {},
     "output_type": "execute_result"
    }
   ],
   "source": [
    "# index Location function iloc (For default index)\n",
    "series3.iloc[1]"
   ]
  },
  {
   "cell_type": "code",
   "execution_count": 93,
   "id": "00abd4f9",
   "metadata": {},
   "outputs": [
    {
     "data": {
      "text/plain": [
       "38"
      ]
     },
     "execution_count": 93,
     "metadata": {},
     "output_type": "execute_result"
    }
   ],
   "source": [
    "# Loc for custom index\n",
    "series3.loc[9]"
   ]
  },
  {
   "cell_type": "code",
   "execution_count": 95,
   "id": "fddb021f",
   "metadata": {},
   "outputs": [
    {
     "data": {
      "text/plain": [
       "38"
      ]
     },
     "execution_count": 95,
     "metadata": {},
     "output_type": "execute_result"
    }
   ],
   "source": [
    "# Loc for custom index\n",
    "series3.at[9]"
   ]
  },
  {
   "cell_type": "code",
   "execution_count": 96,
   "id": "3543f5be",
   "metadata": {},
   "outputs": [],
   "source": [
    "songs_66=pd.Series([3, None, 11, 9],\n",
    "                  index=['George','Ringo','John','Paul'],\n",
    "                  name='counts')\n",
    "\n",
    "songs_69=pd.Series([18, 22, 7, 5],\n",
    "                  index=['John','Mudasar','Latif','Memon'],\n",
    "                  name='counts')"
   ]
  },
  {
   "cell_type": "code",
   "execution_count": 98,
   "id": "366de6a1",
   "metadata": {},
   "outputs": [
    {
     "name": "stdout",
     "output_type": "stream",
     "text": [
      "3.0\n",
      "nan\n",
      "11.0\n",
      "9.0\n"
     ]
    }
   ],
   "source": [
    "for value in songs_66:\n",
    "    print(value)"
   ]
  },
  {
   "cell_type": "code",
   "execution_count": 101,
   "id": "d31dd548",
   "metadata": {},
   "outputs": [
    {
     "name": "stdout",
     "output_type": "stream",
     "text": [
      "3.0\n",
      "nan\n",
      "11.0\n",
      "9.0\n"
     ]
    }
   ],
   "source": [
    "for idx, value in songs_66.items():\n",
    "    print(value)"
   ]
  },
  {
   "cell_type": "code",
   "execution_count": 102,
   "id": "40b6702e",
   "metadata": {},
   "outputs": [
    {
     "name": "stdout",
     "output_type": "stream",
     "text": [
      "George 3.0\n",
      "Ringo nan\n",
      "John 11.0\n",
      "Paul 9.0\n"
     ]
    }
   ],
   "source": [
    "for idx, value in songs_66.items():\n",
    "    print(idx,value)"
   ]
  },
  {
   "cell_type": "code",
   "execution_count": 103,
   "id": "f3de113d",
   "metadata": {},
   "outputs": [
    {
     "name": "stdout",
     "output_type": "stream",
     "text": [
      "George 3.0\n",
      "Ringo nan\n",
      "John 11.0\n",
      "Paul 9.0\n"
     ]
    },
    {
     "name": "stderr",
     "output_type": "stream",
     "text": [
      "C:\\Users\\Mudasar\\AppData\\Local\\Temp\\ipykernel_2928\\58083268.py:1: FutureWarning: iteritems is deprecated and will be removed in a future version. Use .items instead.\n",
      "  for idx, value in songs_66.iteritems():\n"
     ]
    }
   ],
   "source": [
    "for idx, value in songs_66.iteritems():\n",
    "    print(idx,value)"
   ]
  },
  {
   "cell_type": "code",
   "execution_count": 109,
   "id": "2376edcf",
   "metadata": {},
   "outputs": [
    {
     "data": {
      "text/plain": [
       "array([ 3., nan, 11.,  9.])"
      ]
     },
     "execution_count": 109,
     "metadata": {},
     "output_type": "execute_result"
    }
   ],
   "source": [
    "# unique will give the list of unique numbers\n",
    "songs_66.unique()"
   ]
  },
  {
   "cell_type": "code",
   "execution_count": 110,
   "id": "10c110de",
   "metadata": {},
   "outputs": [
    {
     "data": {
      "text/plain": [
       "3"
      ]
     },
     "execution_count": 110,
     "metadata": {},
     "output_type": "execute_result"
    }
   ],
   "source": [
    "# nunique Gives count of unique numbers\n",
    "songs_66.nunique()"
   ]
  },
  {
   "cell_type": "code",
   "execution_count": 118,
   "id": "8e2b5c14",
   "metadata": {},
   "outputs": [
    {
     "name": "stdout",
     "output_type": "stream",
     "text": [
      "John       18\n",
      "Mudasar    22\n",
      "Latif       7\n",
      "Memon       5\n",
      "Name: counts, dtype: int64\n"
     ]
    }
   ],
   "source": [
    "songs_70=pd.Series(data= [18, 22, 7, 5], index=['John','Mudasar','Latif','Memon'], name='counts')\n",
    "print(songs_70.drop_duplicates())"
   ]
  },
  {
   "cell_type": "code",
   "execution_count": 114,
   "id": "df86a6b8",
   "metadata": {},
   "outputs": [
    {
     "data": {
      "text/plain": [
       "John       False\n",
       "Mudasar    False\n",
       "Latif      False\n",
       "Memon      False\n",
       "Name: counts, dtype: bool"
      ]
     },
     "execution_count": 114,
     "metadata": {},
     "output_type": "execute_result"
    }
   ],
   "source": [
    "songs_70=pd.Series([18, 22, 7, 5],\n",
    "                  index=['John','Mudasar','Latif','Memon'],\n",
    "                  name='counts')\n",
    "songs_70.duplicated()"
   ]
  },
  {
   "cell_type": "code",
   "execution_count": 128,
   "id": "9321412a",
   "metadata": {},
   "outputs": [
    {
     "data": {
      "text/plain": [
       "18          7\n",
       "Memon       5\n",
       "Mudasar    22\n",
       "a          18\n",
       "Name: counts, dtype: int64"
      ]
     },
     "execution_count": 128,
     "metadata": {},
     "output_type": "execute_result"
    }
   ],
   "source": [
    "# Groups are indexed based on custom index \n",
    "songs_70=pd.Series(data=[18, 22, 7, 5, 6],\n",
    "                  index=['a','Mudasar','18','Memon',None],\n",
    "                  name='counts')\n",
    "songs_70.groupby(songs_70.index).first() "
   ]
  },
  {
   "cell_type": "code",
   "execution_count": 129,
   "id": "f532813e",
   "metadata": {},
   "outputs": [
    {
     "data": {
      "text/plain": [
       "18          7\n",
       "Memon       5\n",
       "Mudasar    22\n",
       "a          18\n",
       "Name: counts, dtype: int64"
      ]
     },
     "execution_count": 129,
     "metadata": {},
     "output_type": "execute_result"
    }
   ],
   "source": [
    "songs_70.groupby(songs_70.index).last() "
   ]
  },
  {
   "cell_type": "code",
   "execution_count": 130,
   "id": "ea6c0654",
   "metadata": {},
   "outputs": [
    {
     "data": {
      "text/plain": [
       "58"
      ]
     },
     "execution_count": 130,
     "metadata": {},
     "output_type": "execute_result"
    }
   ],
   "source": [
    "songs_70.sum()"
   ]
  },
  {
   "cell_type": "code",
   "execution_count": 131,
   "id": "e1f6c7a2",
   "metadata": {},
   "outputs": [],
   "source": [
    "# Combining a series to form a data from\n",
    "\n",
    "import numpy as np\n",
    "ser1=pd.Series(list('abcdefgh'))\n",
    "ser2=pd.Series(np.arange(26))"
   ]
  },
  {
   "cell_type": "code",
   "execution_count": 132,
   "id": "96bee63a",
   "metadata": {},
   "outputs": [
    {
     "name": "stdout",
     "output_type": "stream",
     "text": [
      "0    a\n",
      "1    b\n",
      "2    c\n",
      "3    d\n",
      "4    e\n",
      "5    f\n",
      "6    g\n",
      "7    h\n",
      "dtype: object\n"
     ]
    }
   ],
   "source": [
    "print(ser1)"
   ]
  },
  {
   "cell_type": "code",
   "execution_count": 133,
   "id": "a9403774",
   "metadata": {},
   "outputs": [
    {
     "name": "stdout",
     "output_type": "stream",
     "text": [
      "0      0\n",
      "1      1\n",
      "2      2\n",
      "3      3\n",
      "4      4\n",
      "5      5\n",
      "6      6\n",
      "7      7\n",
      "8      8\n",
      "9      9\n",
      "10    10\n",
      "11    11\n",
      "12    12\n",
      "13    13\n",
      "14    14\n",
      "15    15\n",
      "16    16\n",
      "17    17\n",
      "18    18\n",
      "19    19\n",
      "20    20\n",
      "21    21\n",
      "22    22\n",
      "23    23\n",
      "24    24\n",
      "25    25\n",
      "dtype: int32\n"
     ]
    }
   ],
   "source": [
    "print(ser2)"
   ]
  },
  {
   "cell_type": "code",
   "execution_count": 137,
   "id": "006c2ad4",
   "metadata": {},
   "outputs": [
    {
     "name": "stdout",
     "output_type": "stream",
     "text": [
      "<bound method NDFrame.head of       0   1\n",
      "0     a   0\n",
      "1     b   1\n",
      "2     c   2\n",
      "3     d   3\n",
      "4     e   4\n",
      "5     f   5\n",
      "6     g   6\n",
      "7     h   7\n",
      "8   NaN   8\n",
      "9   NaN   9\n",
      "10  NaN  10\n",
      "11  NaN  11\n",
      "12  NaN  12\n",
      "13  NaN  13\n",
      "14  NaN  14\n",
      "15  NaN  15\n",
      "16  NaN  16\n",
      "17  NaN  17\n",
      "18  NaN  18\n",
      "19  NaN  19\n",
      "20  NaN  20\n",
      "21  NaN  21\n",
      "22  NaN  22\n",
      "23  NaN  23\n",
      "24  NaN  24\n",
      "25  NaN  25>\n"
     ]
    }
   ],
   "source": [
    "df=pd.concat([ser1, ser2],axis= 1)\n",
    "print(df.head)\n"
   ]
  },
  {
   "cell_type": "code",
   "execution_count": 140,
   "id": "6a4f18c1",
   "metadata": {},
   "outputs": [
    {
     "name": "stdout",
     "output_type": "stream",
     "text": [
      "  S1.  S2\n",
      "0   a   0\n",
      "1   b   1\n",
      "2   c   2\n",
      "3   d   3\n",
      "4   e   4\n"
     ]
    }
   ],
   "source": [
    "df=pd.DataFrame({'S1.': ser1, 'S2': ser2})\n",
    "print(df.head())"
   ]
  },
  {
   "cell_type": "code",
   "execution_count": 144,
   "id": "6b997fda",
   "metadata": {},
   "outputs": [
    {
     "name": "stdout",
     "output_type": "stream",
     "text": [
      "   S.No.    Names\n",
      "0      1  Mudasar\n",
      "1      2    Latif\n",
      "2      3    Memon\n",
      "3      4     Asad\n"
     ]
    }
   ],
   "source": [
    "songs_70=pd.DataFrame({'S.No.':[1, 2, 3, 4],\n",
    "                       'Names':['Mudasar', 'Latif', 'Memon', 'Asad']})\n",
    "print(songs_70.head())"
   ]
  },
  {
   "cell_type": "code",
   "execution_count": 149,
   "id": "de3235e6",
   "metadata": {},
   "outputs": [
    {
     "data": {
      "text/plain": [
       "0    Mudasar\n",
       "1      Latif\n",
       "2      Memon\n",
       "3       Asad\n",
       "Name: Names, dtype: object"
      ]
     },
     "execution_count": 149,
     "metadata": {},
     "output_type": "execute_result"
    }
   ],
   "source": [
    "# Accessing Columns\n",
    "songs_70['Names']"
   ]
  },
  {
   "cell_type": "code",
   "execution_count": null,
   "id": "89bc6a62",
   "metadata": {},
   "outputs": [],
   "source": []
  }
 ],
 "metadata": {
  "kernelspec": {
   "display_name": "Python 3 (ipykernel)",
   "language": "python",
   "name": "python3"
  },
  "language_info": {
   "codemirror_mode": {
    "name": "ipython",
    "version": 3
   },
   "file_extension": ".py",
   "mimetype": "text/x-python",
   "name": "python",
   "nbconvert_exporter": "python",
   "pygments_lexer": "ipython3",
   "version": "3.11.3"
  }
 },
 "nbformat": 4,
 "nbformat_minor": 5
}
