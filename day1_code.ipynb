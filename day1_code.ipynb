{
 "cells": [
  {
   "cell_type": "code",
   "execution_count": 2,
   "id": "c746e97f",
   "metadata": {},
   "outputs": [
    {
     "name": "stdout",
     "output_type": "stream",
     "text": [
      "Mudasar Latif Memon\n",
      "Welcome Mr. Mudasar Latif Memon\n"
     ]
    }
   ],
   "source": [
    "# Printing Welcome\n",
    "\n",
    "name= input ()\n",
    "print (\"Welcome Mr. \"+ name)"
   ]
  },
  {
   "cell_type": "code",
   "execution_count": 3,
   "id": "de02b3a1",
   "metadata": {},
   "outputs": [
    {
     "name": "stdout",
     "output_type": "stream",
     "text": [
      "enter the hours 40\n",
      "enter rate per hour 5000\n",
      "your grosspay is 200000\n"
     ]
    }
   ],
   "source": [
    "# Calculating  Gross Pay\n",
    "\n",
    "hours = int(input (\"enter the hours \"))\n",
    "rateperhour = int(input (\"enter rate per hour \"))\n",
    "grosspay= hours*rateperhour\n",
    "print (\"your grosspay is\", grosspay)"
   ]
  },
  {
   "cell_type": "code",
   "execution_count": 7,
   "id": "2604f8cf",
   "metadata": {},
   "outputs": [
    {
     "name": "stdout",
     "output_type": "stream",
     "text": [
      "enter the celcius temprature30\n",
      "The Farhenheit Temprature is = 86.0 F\n"
     ]
    }
   ],
   "source": [
    "# Celcius to Farhenheit Temprature Conversion\n",
    "\n",
    "celcius= int (input (\"enter the celcius temprature\"))\n",
    "farhenheit= (celcius * 9/5) + 32\n",
    "print (\"The Farhenheit Temprature is =\", farhenheit ,\"F\")"
   ]
  },
  {
   "cell_type": "code",
   "execution_count": 8,
   "id": "ac5c18c0",
   "metadata": {},
   "outputs": [
    {
     "data": {
      "text/plain": [
       "False"
      ]
     },
     "execution_count": 8,
     "metadata": {},
     "output_type": "execute_result"
    }
   ],
   "source": [
    "## Expressions ##\n",
    "\n",
    "5==5\n",
    "\n",
    "x= 2\n",
    "y= 3\n",
    "x==y"
   ]
  },
  {
   "cell_type": "code",
   "execution_count": 9,
   "id": "20fb6c27",
   "metadata": {},
   "outputs": [
    {
     "data": {
      "text/plain": [
       "True"
      ]
     },
     "execution_count": 9,
     "metadata": {},
     "output_type": "execute_result"
    }
   ],
   "source": [
    "# Logical Operators\n",
    "\n",
    "x!=y"
   ]
  },
  {
   "cell_type": "code",
   "execution_count": 10,
   "id": "0cd533d6",
   "metadata": {},
   "outputs": [
    {
     "data": {
      "text/plain": [
       "True"
      ]
     },
     "execution_count": 10,
     "metadata": {},
     "output_type": "execute_result"
    }
   ],
   "source": [
    "# Boolean Operators\n",
    "\n",
    "x is y\n",
    "x and y\n",
    "x>0 and x<10"
   ]
  },
  {
   "cell_type": "code",
   "execution_count": null,
   "id": "4f3dcc40",
   "metadata": {},
   "outputs": [],
   "source": [
    "not (x>y)\n",
    "not (x<y)\n"
   ]
  },
  {
   "cell_type": "code",
   "execution_count": 12,
   "id": "62ac0c72",
   "metadata": {},
   "outputs": [
    {
     "name": "stdout",
     "output_type": "stream",
     "text": [
      "input an integer 5\n",
      "x is less than 10\n"
     ]
    }
   ],
   "source": [
    "x= int (input ('input an integer '))\n",
    "if x <10:\n",
    "    print ('x is less than 10')"
   ]
  },
  {
   "cell_type": "code",
   "execution_count": 13,
   "id": "81eb4eef",
   "metadata": {},
   "outputs": [
    {
     "name": "stdout",
     "output_type": "stream",
     "text": [
      "x and y are equal\n"
     ]
    }
   ],
   "source": [
    "# Conditional Statements if elif\n",
    "\n",
    "x=10\n",
    "y=10\n",
    "if x<y:\n",
    "    print ('x is less than y')\n",
    "elif x>y:\n",
    "    print ('x is greated than y')\n",
    "else:\n",
    "    print ('x and y are equal')"
   ]
  },
  {
   "cell_type": "code",
   "execution_count": 15,
   "id": "da072c3e",
   "metadata": {},
   "outputs": [
    {
     "name": "stdout",
     "output_type": "stream",
     "text": [
      "x and y are equal\n"
     ]
    }
   ],
   "source": [
    "# conditional Nested if else\n",
    "x=10\n",
    "y=10\n",
    "if x==y:\n",
    "    print ('x and y are equal')\n",
    "else :\n",
    "    if x<y:\n",
    "         print ('x is less than y')\n",
    "    else:\n",
    "        print ('x and y is greated')"
   ]
  },
  {
   "cell_type": "code",
   "execution_count": 16,
   "id": "f737d29b",
   "metadata": {},
   "outputs": [
    {
     "name": "stdout",
     "output_type": "stream",
     "text": [
      "Enter Farhenheit Temprature:98\n",
      "36.666666666666664\n"
     ]
    }
   ],
   "source": [
    "# Try Except\n",
    "\n",
    "\n",
    "inp = input ('Enter Farhenheit Temprature:')\n",
    "try:\n",
    "    far = float (inp)\n",
    "    cel = (far- 32.0) * 5.0 /9.0 \n",
    "    print(cel)\n",
    "except:\n",
    "    print ('Please enter a number')\n"
   ]
  },
  {
   "cell_type": "code",
   "execution_count": 17,
   "id": "26c77af0",
   "metadata": {},
   "outputs": [
    {
     "name": "stdout",
     "output_type": "stream",
     "text": [
      "Enter a value beterr 0.0 to 1.00.5\n",
      "You have entered right value\n",
      " Your grade is F = on your given score  0.5\n"
     ]
    }
   ],
   "source": [
    "# Nest if elif \n",
    "\n",
    "\n",
    "score= float (input ('Enter a value between\n",
    "                     0.0 to 1.0'))\n",
    "if score >= 0.0 and score <1.0:\n",
    "    print ('You have entered right value')\n",
    "    if score >=0.9:\n",
    "        print (' Your grade is A  = on your given score ', score)\n",
    "    elif score >= 0.8 :\n",
    "        print (' Your grade is B  = on your given score ', score)\n",
    "    elif score >= 0.7 :\n",
    "        print (' Your grade is C = on your given score ', score)\n",
    "    elif score >= 0.6 :\n",
    "        print (' Your grade is D = on your given score ', score)\n",
    "    elif score >= 0.5 :\n",
    "        print (' Your grade is F = on your given score ', score)\n",
    "else: \n",
    "    print ('please enter the correct value')\n"
   ]
  },
  {
   "cell_type": "code",
   "execution_count": 18,
   "id": "a0d77628",
   "metadata": {},
   "outputs": [
    {
     "name": "stdout",
     "output_type": "stream",
     "text": [
      "0.7853981633974483\n",
      "0.7071067811865476\n"
     ]
    }
   ],
   "source": [
    "# Import Library Math\n",
    "\n",
    "\n",
    "import math\n",
    "degrees = 45\n",
    "radians = degrees / 360.0 * 2 * math.pi\n",
    "\n",
    "rad_sin= math.sin (radians)\n",
    "print (radians)\n",
    "print (rad_sin)\n"
   ]
  },
  {
   "cell_type": "code",
   "execution_count": 19,
   "id": "6f048cee",
   "metadata": {},
   "outputs": [
    {
     "name": "stdout",
     "output_type": "stream",
     "text": [
      "0.7853981633974483\n",
      "0.7071067811865476\n"
     ]
    }
   ],
   "source": [
    "# Import library with Alias\n",
    "\n",
    "\n",
    "import math as ma\n",
    "degrees = 45\n",
    "radians = degrees / 360.0 * 2 * ma.pi\n",
    "\n",
    "rad_sin= math.sin (radians)\n",
    "print (radians)\n",
    "print (rad_sin)\n"
   ]
  },
  {
   "cell_type": "code",
   "execution_count": 20,
   "id": "87322957",
   "metadata": {},
   "outputs": [
    {
     "name": "stdout",
     "output_type": "stream",
     "text": [
      "0.7853981633974483\n",
      "0.7071067811865476\n"
     ]
    }
   ],
   "source": [
    "# Import specific function from library\n",
    "\n",
    "\n",
    "from math import pi,sin\n",
    "degrees = 45\n",
    "radians = degrees / 360.0 * 2 * ma.pi\n",
    "\n",
    "rad_sin= math.sin (radians)\n",
    "print (radians)\n",
    "print (rad_sin)\n"
   ]
  },
  {
   "cell_type": "code",
   "execution_count": 22,
   "id": "f9276b7a",
   "metadata": {},
   "outputs": [
    {
     "name": "stdout",
     "output_type": "stream",
     "text": [
      "8\n",
      "9\n",
      "8\n",
      "10\n",
      "6\n",
      "6\n",
      "9\n",
      "6\n",
      "8\n",
      "10\n",
      "10\n"
     ]
    }
   ],
   "source": [
    "# Random function/ randint/ randchoice\n",
    "\n",
    "\n",
    "import random\n",
    "for i in range (10):\n",
    "    x= random.randint(5,10)\n",
    "    print (x)\n",
    "\n",
    "print (x)\n",
    "\n",
    "\n"
   ]
  },
  {
   "cell_type": "code",
   "execution_count": 29,
   "id": "084ebfb5",
   "metadata": {},
   "outputs": [
    {
     "name": "stdout",
     "output_type": "stream",
     "text": [
      "Mudasar\n",
      "Latif\n"
     ]
    },
    {
     "data": {
      "text/plain": [
       "('Mudasar', 'Latif')"
      ]
     },
     "execution_count": 29,
     "metadata": {},
     "output_type": "execute_result"
    }
   ],
   "source": [
    "\n",
    "t= ['Mudasar', 'Latif', 'Memon']\n",
    "random.choice(t)\n",
    "\n",
    "\n",
    "def print_fullname(first_name, last_name):\n",
    "    print (first_name)\n",
    "    print (last_name)\n",
    "\n",
    "    return(first_name, last_name)\n",
    "print_fullname('Mudasar','Latif')\n"
   ]
  },
  {
   "cell_type": "code",
   "execution_count": 30,
   "id": "2ab0a040",
   "metadata": {},
   "outputs": [],
   "source": [
    "# End of First Day"
   ]
  },
  {
   "cell_type": "code",
   "execution_count": null,
   "id": "31955954",
   "metadata": {},
   "outputs": [],
   "source": []
  }
 ],
 "metadata": {
  "kernelspec": {
   "display_name": "Python 3 (ipykernel)",
   "language": "python",
   "name": "python3"
  },
  "language_info": {
   "codemirror_mode": {
    "name": "ipython",
    "version": 3
   },
   "file_extension": ".py",
   "mimetype": "text/x-python",
   "name": "python",
   "nbconvert_exporter": "python",
   "pygments_lexer": "ipython3",
   "version": "3.11.3"
  }
 },
 "nbformat": 4,
 "nbformat_minor": 5
}
