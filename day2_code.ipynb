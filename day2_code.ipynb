{
 "cells": [
  {
   "cell_type": "code",
   "execution_count": 1,
   "id": "bf1514ef",
   "metadata": {},
   "outputs": [
    {
     "name": "stdout",
     "output_type": "stream",
     "text": [
      "5\n",
      "Blastoff!\n",
      "4\n",
      "Blastoff!\n",
      "3\n",
      "Blastoff!\n",
      "2\n",
      "Blastoff!\n",
      "1\n",
      "Blastoff!\n"
     ]
    }
   ],
   "source": [
    "# Iteration \n",
    "#Execution of While Loop (Infinite Loop untill condition is true)\n",
    "n=5\n",
    "while n>0 :\n",
    "    print (n)\n",
    "    n=n-1\n",
    "    print ('Blastoff!')\n"
   ]
  },
  {
   "cell_type": "code",
   "execution_count": 2,
   "id": "f0afb520",
   "metadata": {},
   "outputs": [
    {
     "name": "stdout",
     "output_type": "stream",
     "text": [
      "> 1\n",
      "> 2\n",
      "> 3\n",
      "> done\n"
     ]
    }
   ],
   "source": [
    "# How to break a While Loop \"Break Statement\" (While is infinite Loop)\n",
    "while True:\n",
    "    line = input ('> ')\n",
    "    if line == 'done':\n",
    "        break\n",
    "        print (line)\n",
    "        print ('Done!')\n"
   ]
  },
  {
   "cell_type": "code",
   "execution_count": 3,
   "id": "922fda32",
   "metadata": {},
   "outputs": [
    {
     "name": "stdout",
     "output_type": "stream",
     "text": [
      "> 1\n",
      "line\n",
      "> 2\n",
      "line\n",
      "> 3\n",
      "line\n",
      "> #\n",
      "> done\n",
      "done!\n"
     ]
    }
   ],
   "source": [
    "# Continue Statement\n",
    "\n",
    "while True:\n",
    "    line = input ('> ')\n",
    "    if line [0] == '#':\n",
    "        continue\n",
    "    if line == 'done':\n",
    "        break\n",
    "    print ('line')\n",
    "print ('done!')"
   ]
  },
  {
   "cell_type": "code",
   "execution_count": 4,
   "id": "4214b980",
   "metadata": {},
   "outputs": [
    {
     "name": "stdout",
     "output_type": "stream",
     "text": [
      "Happy Ramadhan:  Adeel\n",
      "Happy Ramadhan:  Tauseef\n",
      "Happy Ramadhan:  Memon\n",
      "Done!\n"
     ]
    }
   ],
   "source": [
    "# For Loop\n",
    "friends= ['Adeel','Tauseef','Memon']\n",
    "for friend in friends:\n",
    "    print ('Happy Ramadhan: ', friend)\n",
    "print ('Done!')"
   ]
  },
  {
   "cell_type": "code",
   "execution_count": 5,
   "id": "21244bda",
   "metadata": {},
   "outputs": [
    {
     "name": "stdout",
     "output_type": "stream",
     "text": [
      "Count:  1\n",
      "Count:  2\n",
      "Count:  3\n",
      "Count:  4\n",
      "Count:  5\n",
      "Count:  6\n"
     ]
    }
   ],
   "source": [
    "# Counting and Summing  Loops\n",
    "count=0\n",
    "for intervar in [3, 42, 12, 9, 74, 15]:\n",
    "    count = count+1\n",
    "    print ('Count: ', count)\n"
   ]
  },
  {
   "cell_type": "code",
   "execution_count": 6,
   "id": "14457bc6",
   "metadata": {},
   "outputs": [
    {
     "name": "stdout",
     "output_type": "stream",
     "text": [
      "3\n",
      "42\n",
      "12\n",
      "9\n",
      "74\n",
      "15\n",
      "Count:  6\n"
     ]
    }
   ],
   "source": [
    "# Counting and Summing  Loops 2\n",
    "count=0\n",
    "for intervar in [3, 42, 12, 9, 74, 15]:\n",
    "    count = count+1\n",
    "    print (intervar)\n",
    "print ('Count: ', count)"
   ]
  },
  {
   "cell_type": "code",
   "execution_count": 7,
   "id": "35116f5f",
   "metadata": {},
   "outputs": [
    {
     "name": "stdout",
     "output_type": "stream",
     "text": [
      "Total:  3\n",
      "Total:  44\n",
      "Total:  56\n",
      "Total:  65\n",
      "Total:  139\n",
      "Total:  154\n"
     ]
    }
   ],
   "source": [
    "# Sum all the values in the list\n",
    "total=0\n",
    "for itervar in [3,41,12,9, 74, 15]:\n",
    "    total = total +itervar\n",
    "    print (\"Total: \", total)\n",
    "    "
   ]
  },
  {
   "cell_type": "code",
   "execution_count": 8,
   "id": "425ee211",
   "metadata": {},
   "outputs": [
    {
     "name": "stdout",
     "output_type": "stream",
     "text": [
      "Before:  None\n",
      "Loop: 3 3\n",
      "Loop: 41 41\n",
      "Loop: 12 41\n",
      "Loop: 9 41\n",
      "Loop: 74 74\n",
      "Loop: 15 74\n",
      "largest: 74\n"
     ]
    }
   ],
   "source": [
    "largest= None\n",
    "print ('Before: ', largest)\n",
    "for itervar in [3,41,12,9, 74, 15]:\n",
    "    if largest is None or  itervar > largest :\n",
    "        largest = itervar\n",
    "    print ('Loop:', itervar, largest)\n",
    "print (\"largest:\", largest)"
   ]
  },
  {
   "cell_type": "code",
   "execution_count": 9,
   "id": "04374612",
   "metadata": {},
   "outputs": [
    {
     "data": {
      "text/plain": [
       "NoneType"
      ]
     },
     "execution_count": 9,
     "metadata": {},
     "output_type": "execute_result"
    }
   ],
   "source": [
    "# \"None\" is Data type in Python\n",
    "\n",
    "a= None\n",
    "type (a)"
   ]
  },
  {
   "cell_type": "code",
   "execution_count": 10,
   "id": "51d9dafb",
   "metadata": {},
   "outputs": [
    {
     "name": "stdout",
     "output_type": "stream",
     "text": [
      "Before:  None\n",
      "Loop: 3 3\n",
      "Loop: 41 3\n",
      "Loop: 12 3\n",
      "Loop: 9 3\n",
      "Loop: 74 3\n",
      "Loop: 15 3\n",
      "Smallest:  3\n"
     ]
    }
   ],
   "source": [
    "# Minimum Loops\n",
    "\n",
    "smallest= None\n",
    "print ('Before: ', smallest)\n",
    "for itervar in [3,41,12,9, 74, 15]:\n",
    "    if smallest is None or itervar < smallest:\n",
    "        smallest = itervar\n",
    "    print (\"Loop:\", itervar, smallest)\n",
    "print ('Smallest: ', smallest)\n",
    "\n",
    "\n"
   ]
  },
  {
   "cell_type": "code",
   "execution_count": 11,
   "id": "840c4c1e",
   "metadata": {},
   "outputs": [
    {
     "data": {
      "text/plain": [
       "3"
      ]
     },
     "execution_count": 11,
     "metadata": {},
     "output_type": "execute_result"
    }
   ],
   "source": [
    "# Max and Min functions\n",
    "\n",
    "max([3,41,12,9, 74, 15])\n",
    "\n",
    "\n",
    "# In[24]:\n",
    "\n",
    "\n",
    "min([3,41,12,9, 74, 15])"
   ]
  },
  {
   "cell_type": "code",
   "execution_count": 12,
   "id": "3ec82b81",
   "metadata": {},
   "outputs": [
    {
     "name": "stdout",
     "output_type": "stream",
     "text": [
      "Enter a number or write done in case you are done > 1\n",
      "Enter a number or write done in case you are done > 2\n",
      "Enter a number or write done in case you are done > 3\n",
      "Enter a number or write done in case you are done > done\n",
      "The total is =  6\n",
      "The count is =  3\n",
      "The average is =  2.0\n"
     ]
    }
   ],
   "source": [
    "# Activity 9.1 Enter numbers, add number, count numbers, calculate average, if number is 'done' exit execution. \n",
    "total=0\n",
    "count=0\n",
    "avergae=0\n",
    "while True:\n",
    "    number1 = input ('Enter a number or write done in case you are done > ')\n",
    "    if number1=='done':\n",
    "        break\n",
    "    try:\n",
    "        number2= int(number1)\n",
    "        total= total+ number2\n",
    "        count= count+1\n",
    "        average=total/count\n",
    "    except:\n",
    "        print('The value is not integer, please input the correct value')\n",
    "print ('The total is = ' , total)\n",
    "print ('The count is = ', count)\n",
    "print ('The average is = ', average)"
   ]
  },
  {
   "cell_type": "code",
   "execution_count": 13,
   "id": "a48cd105",
   "metadata": {},
   "outputs": [
    {
     "name": "stdout",
     "output_type": "stream",
     "text": [
      "10 x 1 = 10\n",
      "10 x 2 = 20\n",
      "10 x 3 = 30\n",
      "10 x 4 = 40\n",
      "10 x 5 = 50\n",
      "10 x 6 = 60\n",
      "10 x 7 = 70\n",
      "10 x 8 = 80\n",
      "10 x 9 = 90\n",
      "10 x 10 = 100\n"
     ]
    }
   ],
   "source": [
    "# Activity 9.2 Multiplication table\n",
    "num=10\n",
    "for i in range (1,11):\n",
    "    print (num, 'x', i, '=', num*i )\n",
    "\n"
   ]
  },
  {
   "cell_type": "code",
   "execution_count": 14,
   "id": "4b1aa0cc",
   "metadata": {},
   "outputs": [
    {
     "data": {
      "text/plain": [
       "'a'"
      ]
     },
     "execution_count": 14,
     "metadata": {},
     "output_type": "execute_result"
    }
   ],
   "source": [
    "# STRING\n",
    "a='banana'\n",
    "a[1]\n"
   ]
  },
  {
   "cell_type": "code",
   "execution_count": 15,
   "id": "86e37a57",
   "metadata": {},
   "outputs": [
    {
     "data": {
      "text/plain": [
       "'r'"
      ]
     },
     "execution_count": 15,
     "metadata": {},
     "output_type": "execute_result"
    }
   ],
   "source": [
    "# STRING\n",
    "a='Mudasar'\n",
    "a[-1]\n"
   ]
  },
  {
   "cell_type": "code",
   "execution_count": 16,
   "id": "d2aa3af9",
   "metadata": {},
   "outputs": [
    {
     "name": "stdout",
     "output_type": "stream",
     "text": [
      "Enter a name of fruit > apple\n"
     ]
    },
    {
     "data": {
      "text/plain": [
       "5"
      ]
     },
     "execution_count": 16,
     "metadata": {},
     "output_type": "execute_result"
    }
   ],
   "source": [
    "fruit = input ('Enter a name of fruit > ')\n",
    "len(fruit)\n"
   ]
  },
  {
   "cell_type": "code",
   "execution_count": 17,
   "id": "0e547f54",
   "metadata": {},
   "outputs": [
    {
     "data": {
      "text/plain": [
       "'p'"
      ]
     },
     "execution_count": 17,
     "metadata": {},
     "output_type": "execute_result"
    }
   ],
   "source": [
    "fruit[1]"
   ]
  },
  {
   "cell_type": "code",
   "execution_count": 18,
   "id": "43e700c4",
   "metadata": {},
   "outputs": [
    {
     "name": "stdout",
     "output_type": "stream",
     "text": [
      "b\n",
      "a\n",
      "n\n",
      "a\n",
      "n\n",
      "a\n"
     ]
    }
   ],
   "source": [
    "# Traversal trough a string with a loop\n",
    "fruit = 'banana'\n",
    "index = 0\n",
    "while index< len (fruit):\n",
    "    letter= fruit[index]\n",
    "    print (letter)\n",
    "    index= index+1"
   ]
  },
  {
   "cell_type": "code",
   "execution_count": 19,
   "id": "62fdffe2",
   "metadata": {},
   "outputs": [
    {
     "name": "stdout",
     "output_type": "stream",
     "text": [
      "a\n",
      "n\n",
      "a\n",
      "n\n",
      "a\n",
      "b\n"
     ]
    }
   ],
   "source": [
    "# Reverse Traversal trough a string with a loop Actvity 10\n",
    "fruit = 'banana'\n",
    "index = len(fruit)\n",
    "while index <= len (fruit):\n",
    "    letter= fruit[index-1]\n",
    "    print (letter)\n",
    "    index= index-1\n",
    "    if index==0:\n",
    "        break"
   ]
  },
  {
   "cell_type": "code",
   "execution_count": 20,
   "id": "0d005e61",
   "metadata": {},
   "outputs": [
    {
     "name": "stdout",
     "output_type": "stream",
     "text": [
      "Mudasar\n"
     ]
    }
   ],
   "source": [
    "\n",
    "# String Slices\n",
    "s= 'Mudasar Latif Memon'\n",
    "print (s[:7])"
   ]
  },
  {
   "cell_type": "code",
   "execution_count": 21,
   "id": "895a7185",
   "metadata": {},
   "outputs": [
    {
     "name": "stdout",
     "output_type": "stream",
     "text": [
      "Mudasar Latif Memon\n"
     ]
    }
   ],
   "source": [
    "# String Slices\n",
    "s= 'Mudasar Latif Memon'\n",
    "print (s[0: ])\n",
    "\n"
   ]
  },
  {
   "cell_type": "code",
   "execution_count": 22,
   "id": "0b773029",
   "metadata": {},
   "outputs": [
    {
     "name": "stdout",
     "output_type": "stream",
     "text": [
      "Mdsr\n"
     ]
    }
   ],
   "source": [
    "# String Slices with increments\n",
    "s= 'Mudasar Latif Memon'\n",
    "print (s[0:7:2])\n"
   ]
  },
  {
   "cell_type": "code",
   "execution_count": 23,
   "id": "212206b6",
   "metadata": {},
   "outputs": [
    {
     "name": "stdout",
     "output_type": "stream",
     "text": [
      "Maraf\n"
     ]
    }
   ],
   "source": [
    "# String Slices\n",
    "s= 'Mudasar Latif Memon'\n",
    "print (s[0:14:3])"
   ]
  },
  {
   "cell_type": "code",
   "execution_count": 24,
   "id": "00342c32",
   "metadata": {},
   "outputs": [
    {
     "name": "stdout",
     "output_type": "stream",
     "text": [
      "Mudasar Lati\n"
     ]
    }
   ],
   "source": [
    "# String Slices Negative Indexing\n",
    "s= 'Mudasar Latif Memon'\n",
    "print (s[ :-7])"
   ]
  },
  {
   "cell_type": "code",
   "execution_count": 25,
   "id": "1bbf664e",
   "metadata": {},
   "outputs": [
    {
     "name": "stdout",
     "output_type": "stream",
     "text": [
      "nomeM fitaL rasaduM\n"
     ]
    }
   ],
   "source": [
    "# String Slices Negative Indexing\n",
    "s= 'Mudasar Latif Memon'\n",
    "print (s[ : : -1])"
   ]
  },
  {
   "cell_type": "code",
   "execution_count": 26,
   "id": "3651cc85",
   "metadata": {},
   "outputs": [
    {
     "name": "stdout",
     "output_type": "stream",
     "text": [
      "Mudasar Latif Me\n"
     ]
    }
   ],
   "source": [
    "# String Slices Negative Indexing\n",
    "s= 'Mudasar Latif Memon'\n",
    "print (s[ : -3])"
   ]
  },
  {
   "cell_type": "code",
   "execution_count": 27,
   "id": "b6df1d61",
   "metadata": {},
   "outputs": [
    {
     "ename": "TypeError",
     "evalue": "'str' object does not support item assignment",
     "output_type": "error",
     "traceback": [
      "\u001b[1;31m---------------------------------------------------------------------------\u001b[0m",
      "\u001b[1;31mTypeError\u001b[0m                                 Traceback (most recent call last)",
      "Cell \u001b[1;32mIn[27], line 3\u001b[0m\n\u001b[0;32m      1\u001b[0m \u001b[38;5;66;03m# Strings are Immutable\u001b[39;00m\n\u001b[0;32m      2\u001b[0m greetings\u001b[38;5;241m=\u001b[39m \u001b[38;5;124m'\u001b[39m\u001b[38;5;124m Hello world\u001b[39m\u001b[38;5;124m'\u001b[39m\n\u001b[1;32m----> 3\u001b[0m greetings[\u001b[38;5;241m0\u001b[39m]\u001b[38;5;241m=\u001b[39m\u001b[38;5;124m'\u001b[39m\u001b[38;5;124mJ\u001b[39m\u001b[38;5;124m'\u001b[39m\n",
      "\u001b[1;31mTypeError\u001b[0m: 'str' object does not support item assignment"
     ]
    }
   ],
   "source": [
    "# Strings are Immutable\n",
    "greetings= ' Hello world'\n",
    "greetings[0]='J'\n"
   ]
  },
  {
   "cell_type": "code",
   "execution_count": 28,
   "id": "ad4dbef4",
   "metadata": {},
   "outputs": [
    {
     "name": "stdout",
     "output_type": "stream",
     "text": [
      "Jello world\n"
     ]
    }
   ],
   "source": [
    "# Strings are Immutable but can replace\n",
    "greetings= 'Hello world'\n",
    "new_greetings= 'J'+ greetings[1:]\n",
    "print (new_greetings)\n"
   ]
  },
  {
   "cell_type": "code",
   "execution_count": 29,
   "id": "6a00292e",
   "metadata": {},
   "outputs": [
    {
     "name": "stdout",
     "output_type": "stream",
     "text": [
      "3\n"
     ]
    }
   ],
   "source": [
    "# Looping and Counting\n",
    "word= 'banana'\n",
    "count=0\n",
    "for letter in word:\n",
    "    if letter == 'a':\n",
    "        count= count+1\n",
    "print (count)\n"
   ]
  },
  {
   "cell_type": "code",
   "execution_count": 30,
   "id": "347ed334",
   "metadata": {},
   "outputs": [
    {
     "name": "stdout",
     "output_type": "stream",
     "text": [
      "Enter a word> a\n",
      "Enter the letter you want to count> a\n",
      "1\n"
     ]
    }
   ],
   "source": [
    "# Activity Count the number of letters \n",
    "word= input ('Enter a word> ')\n",
    "letter1= input ('Enter the letter you want to count> ')\n",
    "count= 0\n",
    "for letter in word:\n",
    "    if letter == letter1:\n",
    "        count= count+1\n",
    "print (count)\n",
    "\n"
   ]
  },
  {
   "cell_type": "code",
   "execution_count": 31,
   "id": "2d0258fe",
   "metadata": {},
   "outputs": [
    {
     "name": "stdout",
     "output_type": "stream",
     "text": [
      "3\n"
     ]
    }
   ],
   "source": [
    "def countletters(str, ch):\n",
    "    fruit=str\n",
    "    count=0\n",
    "    for char in fruit:\n",
    "        if char == ch:\n",
    "            count= count+1\n",
    "    print (count)\n",
    "countletters (\"banana\", \"a\")\n",
    "\n"
   ]
  },
  {
   "cell_type": "code",
   "execution_count": 32,
   "id": "17fb2625",
   "metadata": {},
   "outputs": [
    {
     "data": {
      "text/plain": [
       "True"
      ]
     },
     "execution_count": 32,
     "metadata": {},
     "output_type": "execute_result"
    }
   ],
   "source": [
    "# in Operator returns value True or False\n",
    "'a' in 'banana'\n"
   ]
  },
  {
   "cell_type": "code",
   "execution_count": 33,
   "id": "cfadf74c",
   "metadata": {},
   "outputs": [
    {
     "data": {
      "text/plain": [
       "False"
      ]
     },
     "execution_count": 33,
     "metadata": {},
     "output_type": "execute_result"
    }
   ],
   "source": [
    "'seed' in 'banana'"
   ]
  },
  {
   "cell_type": "code",
   "execution_count": 34,
   "id": "dfa36154",
   "metadata": {},
   "outputs": [
    {
     "name": "stdout",
     "output_type": "stream",
     "text": [
      "97\n"
     ]
    }
   ],
   "source": [
    "# ord function gives ASCII value of characters\n",
    "print(ord('a'))\n"
   ]
  },
  {
   "cell_type": "code",
   "execution_count": 35,
   "id": "351bf4be",
   "metadata": {},
   "outputs": [],
   "source": [
    "# String Comparison\n",
    "if word == 'banana':\n",
    "    print('All right. bannas')\n",
    "\n"
   ]
  },
  {
   "cell_type": "code",
   "execution_count": 36,
   "id": "8e95a91c",
   "metadata": {},
   "outputs": [],
   "source": [
    "if word == 'b':\n",
    "    print('All right. bannas')\n",
    "\n"
   ]
  },
  {
   "cell_type": "code",
   "execution_count": 37,
   "id": "f9edd836",
   "metadata": {},
   "outputs": [
    {
     "name": "stdout",
     "output_type": "stream",
     "text": [
      "All right. bannas\n"
     ]
    }
   ],
   "source": [
    "# Compare the ASCII values of Characters\n",
    "if word < 'b':\n",
    "    print('All right. bannas')\n",
    "\n",
    "\n"
   ]
  },
  {
   "cell_type": "code",
   "execution_count": 38,
   "id": "7cdb3577",
   "metadata": {},
   "outputs": [],
   "source": [
    "if word > 'b':\n",
    "    print('All right. bannas')"
   ]
  },
  {
   "cell_type": "code",
   "execution_count": 39,
   "id": "cc44cd4e",
   "metadata": {},
   "outputs": [
    {
     "name": "stdout",
     "output_type": "stream",
     "text": [
      "your word, pinapple, comes after banana.\n"
     ]
    }
   ],
   "source": [
    "# Compares the strings on the basis of ASCII value of first character\n",
    "word= 'pinapple'\n",
    "if word< 'banana':\n",
    "    print ('Your word,'+ word + ', comes before banana.')\n",
    "elif word> 'banana':\n",
    "    print ('your word, ' + word + ', comes after banana.')\n",
    "else:\n",
    "    print('All right, bananas.')\n"
   ]
  },
  {
   "cell_type": "code",
   "execution_count": 40,
   "id": "da3e6e07",
   "metadata": {},
   "outputs": [
    {
     "data": {
      "text/plain": [
       "112"
      ]
     },
     "execution_count": 40,
     "metadata": {},
     "output_type": "execute_result"
    }
   ],
   "source": [
    "ord('p')\n"
   ]
  },
  {
   "cell_type": "code",
   "execution_count": 41,
   "id": "34f31ea0",
   "metadata": {},
   "outputs": [
    {
     "data": {
      "text/plain": [
       "98"
      ]
     },
     "execution_count": 41,
     "metadata": {},
     "output_type": "execute_result"
    }
   ],
   "source": [
    "ord ('b')"
   ]
  },
  {
   "cell_type": "code",
   "execution_count": 42,
   "id": "a5377e14",
   "metadata": {},
   "outputs": [
    {
     "data": {
      "text/plain": [
       "['__add__',\n",
       " '__class__',\n",
       " '__contains__',\n",
       " '__delattr__',\n",
       " '__dir__',\n",
       " '__doc__',\n",
       " '__eq__',\n",
       " '__format__',\n",
       " '__ge__',\n",
       " '__getattribute__',\n",
       " '__getitem__',\n",
       " '__getnewargs__',\n",
       " '__getstate__',\n",
       " '__gt__',\n",
       " '__hash__',\n",
       " '__init__',\n",
       " '__init_subclass__',\n",
       " '__iter__',\n",
       " '__le__',\n",
       " '__len__',\n",
       " '__lt__',\n",
       " '__mod__',\n",
       " '__mul__',\n",
       " '__ne__',\n",
       " '__new__',\n",
       " '__reduce__',\n",
       " '__reduce_ex__',\n",
       " '__repr__',\n",
       " '__rmod__',\n",
       " '__rmul__',\n",
       " '__setattr__',\n",
       " '__sizeof__',\n",
       " '__str__',\n",
       " '__subclasshook__',\n",
       " 'capitalize',\n",
       " 'casefold',\n",
       " 'center',\n",
       " 'count',\n",
       " 'encode',\n",
       " 'endswith',\n",
       " 'expandtabs',\n",
       " 'find',\n",
       " 'format',\n",
       " 'format_map',\n",
       " 'index',\n",
       " 'isalnum',\n",
       " 'isalpha',\n",
       " 'isascii',\n",
       " 'isdecimal',\n",
       " 'isdigit',\n",
       " 'isidentifier',\n",
       " 'islower',\n",
       " 'isnumeric',\n",
       " 'isprintable',\n",
       " 'isspace',\n",
       " 'istitle',\n",
       " 'isupper',\n",
       " 'join',\n",
       " 'ljust',\n",
       " 'lower',\n",
       " 'lstrip',\n",
       " 'maketrans',\n",
       " 'partition',\n",
       " 'removeprefix',\n",
       " 'removesuffix',\n",
       " 'replace',\n",
       " 'rfind',\n",
       " 'rindex',\n",
       " 'rjust',\n",
       " 'rpartition',\n",
       " 'rsplit',\n",
       " 'rstrip',\n",
       " 'split',\n",
       " 'splitlines',\n",
       " 'startswith',\n",
       " 'strip',\n",
       " 'swapcase',\n",
       " 'title',\n",
       " 'translate',\n",
       " 'upper',\n",
       " 'zfill']"
      ]
     },
     "execution_count": 42,
     "metadata": {},
     "output_type": "execute_result"
    }
   ],
   "source": [
    "# Directory\n",
    "dir(word)"
   ]
  },
  {
   "cell_type": "code",
   "execution_count": 43,
   "id": "e15df89b",
   "metadata": {},
   "outputs": [
    {
     "name": "stdout",
     "output_type": "stream",
     "text": [
      "BANANA\n"
     ]
    }
   ],
   "source": [
    "# Upper Case\n",
    "word= 'banana'\n",
    "new_word= word.upper()\n",
    "print(new_word)"
   ]
  },
  {
   "cell_type": "code",
   "execution_count": 44,
   "id": "5f3ec28f",
   "metadata": {},
   "outputs": [
    {
     "name": "stdout",
     "output_type": "stream",
     "text": [
      "Banana\n"
     ]
    }
   ],
   "source": [
    "# \n",
    "word= 'banana'\n",
    "new_word= word.title()\n",
    "print(new_word)\n"
   ]
  },
  {
   "cell_type": "code",
   "execution_count": 45,
   "id": "94825916",
   "metadata": {},
   "outputs": [
    {
     "name": "stdout",
     "output_type": "stream",
     "text": [
      "['banana']\n"
     ]
    }
   ],
   "source": [
    "word= 'banana'\n",
    "new_word= word.split()\n",
    "print(new_word)\n",
    "\n"
   ]
  },
  {
   "cell_type": "code",
   "execution_count": 46,
   "id": "2f65db84",
   "metadata": {},
   "outputs": [
    {
     "name": "stdout",
     "output_type": "stream",
     "text": [
      "banana \n",
      " True \n",
      " banana \n",
      " 1\n"
     ]
    }
   ],
   "source": [
    "# Activity 12\n",
    "# find function finds the character\n",
    "word= 'banana'\n",
    "d= word.find('a')\n",
    "\n",
    "a= word.strip()\n",
    "\n",
    "b= word.startswith('b')\n",
    "\n",
    "c= word.lower()\n",
    "\n",
    "print (a ,'\\n', b,'\\n', c,'\\n', d)\n"
   ]
  },
  {
   "cell_type": "code",
   "execution_count": 47,
   "id": "7665a1f5",
   "metadata": {},
   "outputs": [
    {
     "data": {
      "text/plain": [
       "22"
      ]
     },
     "execution_count": 47,
     "metadata": {},
     "output_type": "execute_result"
    }
   ],
   "source": [
    "# Finding @ in the text\n",
    "text= 'From mudasarlatif.ccnf@iba-suk.edu.pk Sat Jan 5 09:14:16 2008'\n",
    "text.find('@')\n",
    "\n"
   ]
  },
  {
   "cell_type": "code",
   "execution_count": 48,
   "id": "086d2cbd",
   "metadata": {},
   "outputs": [
    {
     "data": {
      "text/plain": [
       "['From',\n",
       " 'mudasarlatif.ccnf@iba-suk.edu.pk',\n",
       " 'Sat',\n",
       " 'Jan',\n",
       " '5',\n",
       " '09:14:16',\n",
       " '2008']"
      ]
     },
     "execution_count": 48,
     "metadata": {},
     "output_type": "execute_result"
    }
   ],
   "source": [
    "# split \n",
    "text= 'From mudasarlatif.ccnf@iba-suk.edu.pk Sat Jan 5 09:14:16 2008'\n",
    "text.split()\n"
   ]
  },
  {
   "cell_type": "code",
   "execution_count": 49,
   "id": "2fc0e87a",
   "metadata": {},
   "outputs": [
    {
     "name": "stdout",
     "output_type": "stream",
     "text": [
      "From\n",
      "mudasarlatif.ccnf@iba-suk.edu.pk\n",
      "Sat\n",
      "Jan\n",
      "5\n",
      "09:14:16\n",
      "2008\n"
     ]
    }
   ],
   "source": [
    "# split \n",
    "text= 'From mudasarlatif.ccnf@iba-suk.edu.pk Sat Jan 5 09:14:16 2008'\n",
    "list= text.split()\n",
    "for i in list:\n",
    "    print (i)  \n"
   ]
  },
  {
   "cell_type": "code",
   "execution_count": 50,
   "id": "36063ff7",
   "metadata": {},
   "outputs": [
    {
     "name": "stdout",
     "output_type": "stream",
     "text": [
      "From\n",
      "mudasarlatif.ccnf@iba-suk.edu.pk\n",
      "Sat\n",
      "Jan\n",
      "5\n",
      "09:14:16\n",
      "2008\n",
      "mudasarlatif.ccnf@iba-suk.edu.pk\n"
     ]
    }
   ],
   "source": [
    "# split \n",
    "text= 'From mudasarlatif.ccnf@iba-suk.edu.pk Sat Jan 5 09:14:16 2008'\n",
    "list= text.split()\n",
    "for i in list:\n",
    "    print (i)  \n",
    "print (list[1])  \n"
   ]
  },
  {
   "cell_type": "code",
   "execution_count": 51,
   "id": "d82d98eb",
   "metadata": {},
   "outputs": [
    {
     "name": "stdout",
     "output_type": "stream",
     "text": [
      "['From', 'mudasarlatif.ccnf@iba-suk.edu.pk', 'Sat', 'Jan', '5', '09:14:16', '2008']\n"
     ]
    }
   ],
   "source": [
    "# Write a Python program to convert a given string into a list of words.\n",
    "text= 'From mudasarlatif.ccnf@iba-suk.edu.pk Sat Jan 5 09:14:16 2008'\n",
    "list= text.split()\n",
    "print (list)\n"
   ]
  },
  {
   "cell_type": "code",
   "execution_count": 52,
   "id": "aa368168",
   "metadata": {},
   "outputs": [
    {
     "name": "stdout",
     "output_type": "stream",
     "text": [
      "my name is mudasar latif memon\n"
     ]
    }
   ],
   "source": [
    "# Write a Python program to lowercase first n characters in a string.\n",
    "uppercase= 'My Name is Mudasar Latif Memon'\n",
    "l=uppercase.lower()\n",
    "print (l)\n",
    "\n"
   ]
  },
  {
   "cell_type": "code",
   "execution_count": 53,
   "id": "4d07d0f2",
   "metadata": {},
   "outputs": [
    {
     "name": "stdout",
     "output_type": "stream",
     "text": [
      "10\n"
     ]
    }
   ],
   "source": [
    "# Write a Python program to count and display the vowels of a given text.\n",
    "text = 'My Name is Mudasar Latif Memon'\n",
    "count=0\n",
    "for i in text:\n",
    "    if i == 'a':\n",
    "        count= count+1\n",
    "    elif i== 'e':\n",
    "        count= count+1\n",
    "    elif i== 'i':\n",
    "        count= count+1\n",
    "    elif  i== 'o':\n",
    "        count= count+1\n",
    "    elif i== 'u':\n",
    "        count= count+1\n",
    "print (count)\n"
   ]
  },
  {
   "cell_type": "code",
   "execution_count": 54,
   "id": "78f3f8c7",
   "metadata": {},
   "outputs": [
    {
     "name": "stdout",
     "output_type": "stream",
     "text": [
      "M aei uaa ai eo\n"
     ]
    }
   ],
   "source": [
    "\n",
    "# Write a Python program to remove the characters which have odd index values of a given string.\n",
    "text = 'My Name is Mudasar Latif Memon'\n",
    "y= text[ : : 2]\n",
    "print (y)\n"
   ]
  },
  {
   "cell_type": "code",
   "execution_count": null,
   "id": "305fc771",
   "metadata": {},
   "outputs": [],
   "source": []
  }
 ],
 "metadata": {
  "kernelspec": {
   "display_name": "Python 3 (ipykernel)",
   "language": "python",
   "name": "python3"
  },
  "language_info": {
   "codemirror_mode": {
    "name": "ipython",
    "version": 3
   },
   "file_extension": ".py",
   "mimetype": "text/x-python",
   "name": "python",
   "nbconvert_exporter": "python",
   "pygments_lexer": "ipython3",
   "version": "3.11.3"
  }
 },
 "nbformat": 4,
 "nbformat_minor": 5
}
