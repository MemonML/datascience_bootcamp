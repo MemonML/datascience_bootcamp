{
 "cells": [
  {
   "cell_type": "code",
   "execution_count": 31,
   "id": "217d585b",
   "metadata": {},
   "outputs": [
    {
     "data": {
      "text/plain": [
       "'I have 42 camels'"
      ]
     },
     "execution_count": 31,
     "metadata": {},
     "output_type": "execute_result"
    }
   ],
   "source": [
    "#%Format Specifiers\n",
    "\n",
    "camels=42\n",
    "'I have %d camels' %camels"
   ]
  },
  {
   "cell_type": "code",
   "execution_count": 16,
   "id": "cbc6949c",
   "metadata": {},
   "outputs": [
    {
     "name": "stdout",
     "output_type": "stream",
     "text": [
      "10\n"
     ]
    }
   ],
   "source": [
    "print ('{:d}'.format(10))"
   ]
  },
  {
   "cell_type": "code",
   "execution_count": 17,
   "id": "469072ad",
   "metadata": {},
   "outputs": [
    {
     "name": "stdout",
     "output_type": "stream",
     "text": [
      "0.50\n"
     ]
    }
   ],
   "source": [
    "print ('{:.2f}'.format(0.5))"
   ]
  },
  {
   "cell_type": "code",
   "execution_count": 19,
   "id": "1fb41ab3",
   "metadata": {},
   "outputs": [
    {
     "data": {
      "text/plain": [
       "'a b c 1 a b c'"
      ]
     },
     "execution_count": 19,
     "metadata": {},
     "output_type": "execute_result"
    }
   ],
   "source": [
    "# values replace\n",
    "c=1\n",
    "'a b c %d a b c'%c"
   ]
  },
  {
   "cell_type": "code",
   "execution_count": 23,
   "id": "ed811d36",
   "metadata": {},
   "outputs": [
    {
     "data": {
      "text/plain": [
       "'0.50'"
      ]
     },
     "execution_count": 23,
     "metadata": {},
     "output_type": "execute_result"
    }
   ],
   "source": [
    "'{:.2f}'.format(0.5)"
   ]
  },
  {
   "cell_type": "code",
   "execution_count": 24,
   "id": "76f72727",
   "metadata": {},
   "outputs": [
    {
     "data": {
      "text/plain": [
       "'py'"
      ]
     },
     "execution_count": 24,
     "metadata": {},
     "output_type": "execute_result"
    }
   ],
   "source": [
    "# display 2 spaces\n",
    "'{:.2s}'.format('python')"
   ]
  },
  {
   "cell_type": "code",
   "execution_count": 25,
   "id": "d03f8e8f",
   "metadata": {},
   "outputs": [
    {
     "data": {
      "text/plain": [
       "'py    '"
      ]
     },
     "execution_count": 25,
     "metadata": {},
     "output_type": "execute_result"
    }
   ],
   "source": [
    "# display total of 6 spaces at the right\n",
    "'{:<6s}'.format('py')"
   ]
  },
  {
   "cell_type": "code",
   "execution_count": 26,
   "id": "87e745b1",
   "metadata": {},
   "outputs": [
    {
     "data": {
      "text/plain": [
       "'    py'"
      ]
     },
     "execution_count": 26,
     "metadata": {},
     "output_type": "execute_result"
    }
   ],
   "source": [
    "# display total of 6 spaces at the left\n",
    "'{:>6s}'.format('py')"
   ]
  },
  {
   "cell_type": "code",
   "execution_count": 27,
   "id": "096112e5",
   "metadata": {},
   "outputs": [
    {
     "data": {
      "text/plain": [
       "'  py  '"
      ]
     },
     "execution_count": 27,
     "metadata": {},
     "output_type": "execute_result"
    }
   ],
   "source": [
    "# display total of 6 spaces at the center\n",
    "'{:^6s}'.format('py')"
   ]
  },
  {
   "cell_type": "code",
   "execution_count": 43,
   "id": "9f15e848",
   "metadata": {},
   "outputs": [
    {
     "name": "stdout",
     "output_type": "stream",
     "text": [
      "<_io.TextIOWrapper name='C:/Users/Mudasar/mlm1.txt' mode='r' encoding='cp1252'>\n"
     ]
    }
   ],
   "source": [
    "# Files (Open, Read, Write, Close)\n",
    "\n",
    "fhand = open('C:/Users/Mudasar/mlm1.txt')\n",
    "print(fhand)\n"
   ]
  },
  {
   "cell_type": "code",
   "execution_count": 44,
   "id": "ed92d4fe",
   "metadata": {},
   "outputs": [
    {
     "name": "stdout",
     "output_type": "stream",
     "text": [
      "Line Count:  10\n"
     ]
    }
   ],
   "source": [
    "# Reading files\n",
    "fhand= open('C:/Users/Mudasar/mlm1.txt')\n",
    "count=0\n",
    "for line in fhand:\n",
    "    count= count+1\n",
    "print ('Line Count: ',count)"
   ]
  },
  {
   "cell_type": "code",
   "execution_count": 45,
   "id": "eaa2d4f4",
   "metadata": {},
   "outputs": [
    {
     "data": {
      "text/plain": [
       "['_CHUNK_SIZE',\n",
       " '__class__',\n",
       " '__del__',\n",
       " '__delattr__',\n",
       " '__dict__',\n",
       " '__dir__',\n",
       " '__doc__',\n",
       " '__enter__',\n",
       " '__eq__',\n",
       " '__exit__',\n",
       " '__format__',\n",
       " '__ge__',\n",
       " '__getattribute__',\n",
       " '__getstate__',\n",
       " '__gt__',\n",
       " '__hash__',\n",
       " '__init__',\n",
       " '__init_subclass__',\n",
       " '__iter__',\n",
       " '__le__',\n",
       " '__lt__',\n",
       " '__ne__',\n",
       " '__new__',\n",
       " '__next__',\n",
       " '__reduce__',\n",
       " '__reduce_ex__',\n",
       " '__repr__',\n",
       " '__setattr__',\n",
       " '__sizeof__',\n",
       " '__str__',\n",
       " '__subclasshook__',\n",
       " '_checkClosed',\n",
       " '_checkReadable',\n",
       " '_checkSeekable',\n",
       " '_checkWritable',\n",
       " '_finalizing',\n",
       " 'buffer',\n",
       " 'close',\n",
       " 'closed',\n",
       " 'detach',\n",
       " 'encoding',\n",
       " 'errors',\n",
       " 'fileno',\n",
       " 'flush',\n",
       " 'isatty',\n",
       " 'line_buffering',\n",
       " 'mode',\n",
       " 'name',\n",
       " 'newlines',\n",
       " 'read',\n",
       " 'readable',\n",
       " 'readline',\n",
       " 'readlines',\n",
       " 'reconfigure',\n",
       " 'seek',\n",
       " 'seekable',\n",
       " 'tell',\n",
       " 'truncate',\n",
       " 'writable',\n",
       " 'write',\n",
       " 'write_through',\n",
       " 'writelines']"
      ]
     },
     "execution_count": 45,
     "metadata": {},
     "output_type": "execute_result"
    }
   ],
   "source": [
    "dir (fhand)"
   ]
  },
  {
   "cell_type": "code",
   "execution_count": 49,
   "id": "ffb19bf7",
   "metadata": {},
   "outputs": [
    {
     "name": "stdout",
     "output_type": "stream",
     "text": [
      "38\n"
     ]
    }
   ],
   "source": [
    "# Check the length of the file\n",
    "fhand= open('C:/Users/Mudasar/mlm1.txt')\n",
    "inp=fhand.read()\n",
    "print(len(inp))"
   ]
  },
  {
   "cell_type": "code",
   "execution_count": 50,
   "id": "b3564b0f",
   "metadata": {},
   "outputs": [
    {
     "name": "stdout",
     "output_type": "stream",
     "text": [
      "\n",
      "1\n",
      "2\n",
      "3\n",
      "4\n",
      "5\n",
      "6\n",
      "7 Mudasar Latif Memon\n",
      "8\n",
      "9\n"
     ]
    }
   ],
   "source": [
    "# Check the content of the file\n",
    "fhand= open('C:/Users/Mudasar/mlm1.txt')\n",
    "inp=fhand.read()\n",
    "print(inp)"
   ]
  },
  {
   "cell_type": "code",
   "execution_count": 56,
   "id": "e48ec0ba",
   "metadata": {},
   "outputs": [
    {
     "name": "stdout",
     "output_type": "stream",
     "text": [
      "7 Mudasar Latif Memon\n",
      "\n"
     ]
    }
   ],
   "source": [
    "# Searching in text\n",
    "fhand= open('C:/Users/Mudasar/mlm1.txt')\n",
    "count=0\n",
    "for line in fhand:\n",
    "    if line.startswith('7'):\n",
    "        print(line)"
   ]
  },
  {
   "cell_type": "code",
   "execution_count": 61,
   "id": "7e02060b",
   "metadata": {},
   "outputs": [
    {
     "name": "stdout",
     "output_type": "stream",
     "text": [
      "Enter the file nameC:/Users/Mudasar/mlm1.txt\n",
      " There were 1 lines in C:/Users/Mudasar/mlm1.txt\n"
     ]
    }
   ],
   "source": [
    "# Dynamic file path\n",
    "fname= input ('Enter the file name')\n",
    "fhand= open (fname)\n",
    "count=0\n",
    "for line in fhand:\n",
    "      if line.startswith('7'):\n",
    "        count=count+1\n",
    "print(' There were', count, 'lines in', fname)"
   ]
  },
  {
   "cell_type": "code",
   "execution_count": 64,
   "id": "847f5555",
   "metadata": {},
   "outputs": [
    {
     "name": "stdout",
     "output_type": "stream",
     "text": [
      "Enter the file namemlm1\n",
      "please enter the correct file name\n"
     ]
    }
   ],
   "source": [
    "# Opening file from Dynamic file path\n",
    "fname= input ('Enter the file name')\n",
    "try:\n",
    "    fhand= open (fname)\n",
    "    count=0\n",
    "    for line in fhand:\n",
    "      if line.startswith('7'):\n",
    "        count=count+1\n",
    "    print(' There were', count, 'lines in', fname)\n",
    "except:\n",
    "    print('please enter the correct file name')"
   ]
  },
  {
   "cell_type": "code",
   "execution_count": 65,
   "id": "3a78826e",
   "metadata": {},
   "outputs": [
    {
     "name": "stdout",
     "output_type": "stream",
     "text": [
      "<_io.TextIOWrapper name='C:/Users/Mudasar/mlm1.txt' mode='w' encoding='cp1252'>\n"
     ]
    }
   ],
   "source": [
    "# Writing in a file = it will delete all content in file\n",
    "fout= open('C:/Users/Mudasar/mlm1.txt', 'w')\n",
    "print(fout)"
   ]
  },
  {
   "cell_type": "code",
   "execution_count": 70,
   "id": "c7f04386",
   "metadata": {
    "scrolled": true
   },
   "outputs": [
    {
     "name": "stdout",
     "output_type": "stream",
     "text": [
      "<_io.TextIOWrapper name='mlm2.txt' mode='w' encoding='cp1252'>\n"
     ]
    }
   ],
   "source": [
    "# Writing in a file\n",
    "fout= open('mlm2.txt', 'w')\n",
    "print(fout)"
   ]
  },
  {
   "cell_type": "code",
   "execution_count": 74,
   "id": "1b3880ac",
   "metadata": {},
   "outputs": [
    {
     "data": {
      "text/plain": [
       "28"
      ]
     },
     "execution_count": 74,
     "metadata": {},
     "output_type": "execute_result"
    }
   ],
   "source": [
    "line1= \"This is new text for file, \\n\"\n",
    "fout.write(line1)"
   ]
  },
  {
   "cell_type": "code",
   "execution_count": 77,
   "id": "b46b83a2",
   "metadata": {},
   "outputs": [
    {
     "data": {
      "text/plain": [
       "'This is new text for file, \\nThis is new text for file, \\nThis is new text for file, \\nThis is new text for file, \\n'"
      ]
     },
     "execution_count": 77,
     "metadata": {},
     "output_type": "execute_result"
    }
   ],
   "source": [
    "# reading the file\n",
    "fout= open('C:/Users/Mudasar/mlm2.txt')\n",
    "fout.read()"
   ]
  },
  {
   "cell_type": "code",
   "execution_count": null,
   "id": "55fe9da8",
   "metadata": {},
   "outputs": [],
   "source": []
  }
 ],
 "metadata": {
  "kernelspec": {
   "display_name": "Python 3 (ipykernel)",
   "language": "python",
   "name": "python3"
  },
  "language_info": {
   "codemirror_mode": {
    "name": "ipython",
    "version": 3
   },
   "file_extension": ".py",
   "mimetype": "text/x-python",
   "name": "python",
   "nbconvert_exporter": "python",
   "pygments_lexer": "ipython3",
   "version": "3.11.3"
  }
 },
 "nbformat": 4,
 "nbformat_minor": 5
}
