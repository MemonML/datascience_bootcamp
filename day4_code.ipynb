{
 "cells": [
  {
   "cell_type": "code",
   "execution_count": 10,
   "id": "87947fc3",
   "metadata": {},
   "outputs": [
    {
     "name": "stdout",
     "output_type": "stream",
     "text": [
      "[1, 2, 3]\n",
      "None\n",
      "[1, 2, 3, 3]\n"
     ]
    },
    {
     "data": {
      "text/plain": [
       "False"
      ]
     },
     "execution_count": 10,
     "metadata": {},
     "output_type": "execute_result"
    }
   ],
   "source": [
    "# List  Arguments\n",
    "t1 = [1,2]\n",
    "t2 = t1.append(3)\n",
    "print(t1)\n",
    "print(t2)\n",
    "t3= t1+ [3]\n",
    "print (t3)\n",
    "t2 is t3\n"
   ]
  },
  {
   "cell_type": "code",
   "execution_count": 11,
   "id": "0907f4b5",
   "metadata": {},
   "outputs": [
    {
     "name": "stdout",
     "output_type": "stream",
     "text": [
      "[1, 2, 3]\n",
      "None\n",
      "[1, 2, 3, 3]\n",
      "[1, 2, 3]\n"
     ]
    },
    {
     "data": {
      "text/plain": [
       "False"
      ]
     },
     "execution_count": 11,
     "metadata": {},
     "output_type": "execute_result"
    }
   ],
   "source": [
    "# List  Arguments\n",
    "t1 = [1,2]\n",
    "t2 = t1.append(3)\n",
    "print(t1)\n",
    "print(t2)\n",
    "t3= t1+ [3]\n",
    "print (t3)\n",
    "t2 is t3\n",
    "t4=[1,2,3]\n",
    "print(t4)\n",
    "t1 is t4"
   ]
  },
  {
   "cell_type": "code",
   "execution_count": 12,
   "id": "e07a46ce",
   "metadata": {},
   "outputs": [
    {
     "name": "stdout",
     "output_type": "stream",
     "text": [
      "['a', 'b', 'c']\n",
      "None\n",
      "['a', 'b', 'c', 'c']\n"
     ]
    }
   ],
   "source": [
    "# List  Arguments\n",
    "t5 = ['a','b']\n",
    "t6 = t5.append('c')\n",
    "print(t5)\n",
    "print(t6)\n",
    "t7= t5+ ['c']\n",
    "print (t7)"
   ]
  },
  {
   "cell_type": "code",
   "execution_count": 19,
   "id": "b93e72eb",
   "metadata": {},
   "outputs": [
    {
     "name": "stdout",
     "output_type": "stream",
     "text": [
      "['a', 'b']\n",
      "['a', 'b']\n",
      "['a', 'b', 'c']\n",
      "['a', 'b', 'c']\n"
     ]
    }
   ],
   "source": [
    "# List  Arguments, appending on the same location of memory, if we change one variable t2, other variable t1 will\n",
    "# be updated automatically, due to same memory location\n",
    "t7 = ['a','b']\n",
    "t8 = t7\n",
    "print(t7)\n",
    "print(t8)\n",
    "t7 is t8\n",
    "t8.append ('c')\n",
    "print(t7)\n",
    "print(t8)"
   ]
  },
  {
   "cell_type": "code",
   "execution_count": 24,
   "id": "cfbecc4d",
   "metadata": {},
   "outputs": [
    {
     "name": "stdout",
     "output_type": "stream",
     "text": [
      "()\n",
      "(1, 2, 3)\n",
      "(1, 'hello', 1.4)\n",
      "('mouse', [1, 2, 3], (4, 5, 6))\n"
     ]
    },
    {
     "data": {
      "text/plain": [
       "tuple"
      ]
     },
     "execution_count": 24,
     "metadata": {},
     "output_type": "execute_result"
    }
   ],
   "source": [
    "# Tuples , it is like a static variable (imutable), could not be changed, where as list is dynamic\n",
    "\n",
    "# empty tuple\n",
    "my_tuple=()\n",
    "print (my_tuple)\n",
    "\n",
    "# Tuples having integers\n",
    "my_tuple1=(1,2,3)\n",
    "print(my_tuple1)\n",
    "\n",
    "# Tuple with mixed data types\n",
    "my_tuple2=(1, 'hello', 1.4)\n",
    "print(my_tuple2)\n",
    "\n",
    "# Nested Tuple \n",
    "my_tuple3= ('mouse', [1, 2, 3], (4, 5, 6))\n",
    "print(my_tuple3)\n",
    "type(my_tuple3)"
   ]
  },
  {
   "cell_type": "code",
   "execution_count": 27,
   "id": "7f181e0c",
   "metadata": {},
   "outputs": [
    {
     "name": "stdout",
     "output_type": "stream",
     "text": [
      "(1, 2, 3)\n"
     ]
    },
    {
     "data": {
      "text/plain": [
       "tuple"
      ]
     },
     "execution_count": 27,
     "metadata": {},
     "output_type": "execute_result"
    }
   ],
   "source": [
    "# Tuple also accepts without parenthesis\n",
    "\n",
    "# Tuples having integers\n",
    "my_tuple1= 1,2,3\n",
    "print(my_tuple1)\n",
    "type(my_tuple1)"
   ]
  },
  {
   "cell_type": "code",
   "execution_count": 28,
   "id": "4fa52e35",
   "metadata": {},
   "outputs": [
    {
     "name": "stdout",
     "output_type": "stream",
     "text": [
      "(1, 'hello', 1.4)\n"
     ]
    },
    {
     "data": {
      "text/plain": [
       "tuple"
      ]
     },
     "execution_count": 28,
     "metadata": {},
     "output_type": "execute_result"
    }
   ],
   "source": [
    "# Tuple with mixed data types # Tuple also accepts without parenthesis\n",
    "my_tuple2= 1, 'hello', 1.4\n",
    "print(my_tuple2)\n",
    "type(my_tuple2)"
   ]
  },
  {
   "cell_type": "code",
   "execution_count": 29,
   "id": "fb7aa199",
   "metadata": {},
   "outputs": [
    {
     "name": "stdout",
     "output_type": "stream",
     "text": [
      "('mouse', [1, 2, 3], (4, 5, 6))\n"
     ]
    },
    {
     "data": {
      "text/plain": [
       "tuple"
      ]
     },
     "execution_count": 29,
     "metadata": {},
     "output_type": "execute_result"
    }
   ],
   "source": [
    "# Nested Tuple # Tuple also accepts without parenthesis\n",
    "my_tuple3= 'mouse', [1, 2, 3], (4, 5, 6)\n",
    "print(my_tuple3)\n",
    "type(my_tuple3)"
   ]
  },
  {
   "cell_type": "code",
   "execution_count": 33,
   "id": "f0fba720",
   "metadata": {},
   "outputs": [
    {
     "name": "stdout",
     "output_type": "stream",
     "text": [
      "1\n"
     ]
    },
    {
     "data": {
      "text/plain": [
       "int"
      ]
     },
     "execution_count": 33,
     "metadata": {},
     "output_type": "execute_result"
    }
   ],
   "source": [
    "# Tuples do not consider values without commas\n",
    "my_tuple1= 1\n",
    "print(my_tuple1)\n",
    "type(my_tuple1)"
   ]
  },
  {
   "cell_type": "code",
   "execution_count": 36,
   "id": "2c448921",
   "metadata": {},
   "outputs": [
    {
     "name": "stdout",
     "output_type": "stream",
     "text": [
      "movies\n"
     ]
    },
    {
     "data": {
      "text/plain": [
       "str"
      ]
     },
     "execution_count": 36,
     "metadata": {},
     "output_type": "execute_result"
    }
   ],
   "source": [
    "# Tuples do not consider values without commas\n",
    "my_tuple1= 'movies'\n",
    "print(my_tuple1)\n",
    "type(my_tuple1)"
   ]
  },
  {
   "cell_type": "code",
   "execution_count": 38,
   "id": "d3a9945b",
   "metadata": {},
   "outputs": [
    {
     "name": "stdout",
     "output_type": "stream",
     "text": [
      "k\n",
      "h\n",
      "p\n"
     ]
    }
   ],
   "source": [
    "# Accessing the tuples with negative indices, 0 is left most, -1 is the extreme right position\n",
    "letters= ('p','q','r','h','g','k')\n",
    "print(letters[-1])\n",
    "print(letters[-3])\n",
    "print (letters[0])\n"
   ]
  },
  {
   "cell_type": "code",
   "execution_count": 39,
   "id": "0b742e5a",
   "metadata": {},
   "outputs": [
    {
     "name": "stdout",
     "output_type": "stream",
     "text": [
      "('k', 'g', 'h', 'r', 'q', 'p')\n",
      "('q',)\n",
      "()\n"
     ]
    }
   ],
   "source": [
    "# Accessing the tuples with slicing\n",
    "\n",
    "letters= ('p','q','r','h','g','k')\n",
    "print(letters[::-1])\n",
    "print(letters[1:2:])\n",
    "print(letters[1:2:-3])\n"
   ]
  },
  {
   "cell_type": "code",
   "execution_count": 45,
   "id": "63163f79",
   "metadata": {},
   "outputs": [
    {
     "name": "stdout",
     "output_type": "stream",
     "text": [
      "('p', 'q', 'r', 'h', 'g', 'k')\n",
      "['p', 'q', 'r', 'h', 'g', 'k']\n"
     ]
    },
    {
     "data": {
      "text/plain": [
       "tuple"
      ]
     },
     "execution_count": 45,
     "metadata": {},
     "output_type": "execute_result"
    }
   ],
   "source": [
    "# Converting the tuple to list\n",
    "\n",
    "letters= ('p','q','r','h','g','k')\n",
    "print (letters)\n",
    "type(letters)\n",
    "\n",
    "b= list(letters)\n",
    "print (b)\n",
    "type (letters)\n"
   ]
  },
  {
   "cell_type": "code",
   "execution_count": 49,
   "id": "d07bedb3",
   "metadata": {},
   "outputs": [
    {
     "name": "stdout",
     "output_type": "stream",
     "text": [
      "[1, 2, 3]\n",
      "6\n",
      "[1, 2, 6]\n"
     ]
    }
   ],
   "source": [
    "# Update the element in the list of a tuple\n",
    "my_tuple3= 'mouse', [1, 2, 3], (4, 5, 6)\n",
    "print(my_tuple3[1])\n",
    "my_tuple3[1][2]=6\n",
    "print (my_tuple3[1][2])\n",
    "print(my_tuple3[1])"
   ]
  },
  {
   "cell_type": "code",
   "execution_count": 50,
   "id": "e5304e1c",
   "metadata": {},
   "outputs": [
    {
     "data": {
      "text/plain": [
       "['__add__',\n",
       " '__class__',\n",
       " '__class_getitem__',\n",
       " '__contains__',\n",
       " '__delattr__',\n",
       " '__dir__',\n",
       " '__doc__',\n",
       " '__eq__',\n",
       " '__format__',\n",
       " '__ge__',\n",
       " '__getattribute__',\n",
       " '__getitem__',\n",
       " '__getnewargs__',\n",
       " '__getstate__',\n",
       " '__gt__',\n",
       " '__hash__',\n",
       " '__init__',\n",
       " '__init_subclass__',\n",
       " '__iter__',\n",
       " '__le__',\n",
       " '__len__',\n",
       " '__lt__',\n",
       " '__mul__',\n",
       " '__ne__',\n",
       " '__new__',\n",
       " '__reduce__',\n",
       " '__reduce_ex__',\n",
       " '__repr__',\n",
       " '__rmul__',\n",
       " '__setattr__',\n",
       " '__sizeof__',\n",
       " '__str__',\n",
       " '__subclasshook__',\n",
       " 'count',\n",
       " 'index']"
      ]
     },
     "execution_count": 50,
     "metadata": {},
     "output_type": "execute_result"
    }
   ],
   "source": [
    "dir(my_tuple3)"
   ]
  },
  {
   "cell_type": "code",
   "execution_count": 52,
   "id": "f77b3a97",
   "metadata": {},
   "outputs": [
    {
     "name": "stdout",
     "output_type": "stream",
     "text": [
      "1\n",
      "2\n"
     ]
    }
   ],
   "source": [
    "# Count & Index command in tuple\n",
    "letters= ('p','q','r','h','g','k')\n",
    "print (letters.count('q'))\n",
    "\n",
    "print(letters.index('r'))"
   ]
  },
  {
   "cell_type": "code",
   "execution_count": 53,
   "id": "2008e169",
   "metadata": {},
   "outputs": [
    {
     "name": "stdout",
     "output_type": "stream",
     "text": [
      "python\n",
      "swift\n",
      "C++\n"
     ]
    }
   ],
   "source": [
    "# iterating in tuples\n",
    "languages =('python', 'swift','C++')\n",
    "for language in languages:\n",
    "    print(language)"
   ]
  },
  {
   "cell_type": "code",
   "execution_count": 56,
   "id": "189ad9a2",
   "metadata": {},
   "outputs": [
    {
     "name": "stdout",
     "output_type": "stream",
     "text": [
      "False\n",
      "True\n",
      "False\n",
      "False\n",
      "False\n"
     ]
    }
   ],
   "source": [
    "# finding C# in tuple\n",
    "\n",
    "languages =('python', 'swift','C++')\n",
    "print ('C' in languages)\n",
    "print('python' in languages)\n",
    "\n",
    "for language in languages:\n",
    "    print('C' in languages)"
   ]
  },
  {
   "cell_type": "code",
   "execution_count": 57,
   "id": "de7d686b",
   "metadata": {},
   "outputs": [
    {
     "name": "stdout",
     "output_type": "stream",
     "text": [
      "True\n"
     ]
    }
   ],
   "source": [
    "# Searches in a a string of a tuple\n",
    "languages =('python', 'swift','C++')\n",
    "print ('C' in 'C++')"
   ]
  },
  {
   "cell_type": "code",
   "execution_count": 60,
   "id": "a3ed2fb6",
   "metadata": {},
   "outputs": [
    {
     "data": {
      "text/plain": [
       "True"
      ]
     },
     "execution_count": 60,
     "metadata": {},
     "output_type": "execute_result"
    }
   ],
   "source": [
    "# Aliasing is mutable\n",
    "a=[1,2,3]\n",
    "b=a\n",
    "c=b\n",
    "c is a\n"
   ]
  },
  {
   "cell_type": "code",
   "execution_count": 63,
   "id": "8d62f33b",
   "metadata": {},
   "outputs": [
    {
     "name": "stdout",
     "output_type": "stream",
     "text": [
      "Mudasar\n"
     ]
    }
   ],
   "source": [
    "# Dictionaries {} curly braces\n",
    "\n",
    "# There is no index in dictionaries: Key-value pairs: Key is similiar to index but assinged by user\n",
    "\n",
    "#Creating Dictionary\n",
    "my_dict={'key1': 'value1','key2': 'value2', 'key1': 'value1'}\n",
    "\n",
    "memon_dic={1: 'Mudasar',2: 'Latif', 3: 'Memon'}\n",
    "print (memon_dic[1])\n"
   ]
  },
  {
   "cell_type": "code",
   "execution_count": 69,
   "id": "d60bd030",
   "metadata": {},
   "outputs": [
    {
     "name": "stdout",
     "output_type": "stream",
     "text": [
      "LATEEF\n",
      "{1: 'Mudasar', 2: 'LATEEF', 3: 'Memon'}\n"
     ]
    },
    {
     "data": {
      "text/plain": [
       "dict"
      ]
     },
     "execution_count": 69,
     "metadata": {},
     "output_type": "execute_result"
    }
   ],
   "source": [
    "#Modifying dictionary values\n",
    "memon_dic={1: 'Mudasar',2: 'Latif', 3: 'Memon'}\n",
    "\n",
    "memon_dic[2]= 'LATEEF'\n",
    "print (memon_dic[2])\n",
    "print(memon_dic)\n",
    "type(memon_dic)"
   ]
  },
  {
   "cell_type": "code",
   "execution_count": 70,
   "id": "518c9a94",
   "metadata": {},
   "outputs": [],
   "source": [
    "# Data types \n",
    "#1. Structured (Having fixed rows and colums)\n",
    "# 2. Semi-structured (Having some information and can be accessed with some of the parameters)\n",
    "#3. Unstructured "
   ]
  },
  {
   "cell_type": "code",
   "execution_count": 72,
   "id": "7d686b9a",
   "metadata": {},
   "outputs": [
    {
     "name": "stdout",
     "output_type": "stream",
     "text": [
      "{'name': 'Mudasar', 'age': '36', 'city': 'Islamabad'}\n"
     ]
    }
   ],
   "source": [
    "# Creating Dictionary using dict() constructor\n",
    "another_dic= dict(name='Mudasar', age='36', city='Islamabad')\n",
    "print(another_dic)"
   ]
  },
  {
   "cell_type": "code",
   "execution_count": 74,
   "id": "18eedc43",
   "metadata": {},
   "outputs": [
    {
     "name": "stdout",
     "output_type": "stream",
     "text": [
      "{'name': 'Mudasar', 'age': '36', 'city': 'Islamabad', 'occupation': 'Engineer'}\n"
     ]
    }
   ],
   "source": [
    "# Adding a new key-value pair\n",
    "another_dic['occupation']='Engineer'\n",
    "print(another_dic)"
   ]
  },
  {
   "cell_type": "code",
   "execution_count": 75,
   "id": "00033e79",
   "metadata": {},
   "outputs": [
    {
     "name": "stdout",
     "output_type": "stream",
     "text": [
      "{'name': 'Mudasar', 'city': 'Islamabad', 'occupation': 'Engineer'}\n"
     ]
    }
   ],
   "source": [
    "# Removing a new key-value pair\n",
    "del another_dic['age']\n",
    "print(another_dic)"
   ]
  },
  {
   "cell_type": "code",
   "execution_count": 77,
   "id": "6bfabcdb",
   "metadata": {},
   "outputs": [
    {
     "name": "stdout",
     "output_type": "stream",
     "text": [
      "3\n"
     ]
    }
   ],
   "source": [
    "# Operations on dictionary\n",
    "another_dic= dict(name='Mudasar', age='36', city='Islamabad')\n",
    "len(another_dic)"
   ]
  },
  {
   "cell_type": "code",
   "execution_count": 79,
   "id": "da31982f",
   "metadata": {},
   "outputs": [
    {
     "name": "stdout",
     "output_type": "stream",
     "text": [
      "3\n",
      "True\n"
     ]
    }
   ],
   "source": [
    "# Operations on dictionary\n",
    "another_dic= dict(name='Mudasar', age='36', city='Islamabad')\n",
    "print(len(another_dic))\n",
    "print ('name' in another_dic)"
   ]
  },
  {
   "cell_type": "code",
   "execution_count": 84,
   "id": "298d64a3",
   "metadata": {},
   "outputs": [
    {
     "name": "stdout",
     "output_type": "stream",
     "text": [
      "dict_keys(['name', 'age', 'city'])\n"
     ]
    }
   ],
   "source": [
    "# Getting the keys\n",
    "another_dic= dict(name='Mudasar', age='36', city='Islamabad')\n",
    "key= another_dic.keys()\n",
    "print(key)"
   ]
  },
  {
   "cell_type": "code",
   "execution_count": 86,
   "id": "95be4fb4",
   "metadata": {},
   "outputs": [
    {
     "name": "stdout",
     "output_type": "stream",
     "text": [
      "dict_values(['Mudasar', '36', 'Islamabad'])\n"
     ]
    }
   ],
   "source": [
    "# Getting the Values\n",
    "another_dic= dict(name='Mudasar', age='36', city='Islamabad')\n",
    "value= another_dic.values()\n",
    "print(value)"
   ]
  },
  {
   "cell_type": "code",
   "execution_count": 89,
   "id": "f9e7e407",
   "metadata": {},
   "outputs": [
    {
     "name": "stdout",
     "output_type": "stream",
     "text": [
      "dict_items([('name', 'Mudasar'), ('age', '36'), ('city', 'Islamabad')])\n"
     ]
    }
   ],
   "source": [
    "# Getting the Key-Value pairs\n",
    "another_dic= dict(name='Mudasar', age='36', city='Islamabad')\n",
    "item= another_dic.items()\n",
    "print(item)"
   ]
  },
  {
   "cell_type": "code",
   "execution_count": 91,
   "id": "78ee9ec2",
   "metadata": {},
   "outputs": [
    {
     "name": "stdout",
     "output_type": "stream",
     "text": [
      "{'name': 'Mudasar', 'age': '36', 'city': 'Islamabad', 'occupation': 'engineer'}\n"
     ]
    }
   ],
   "source": [
    "# Updating the dictionary\n",
    "another_dic.update({'occupation':'engineer'})\n",
    "print(another_dic)"
   ]
  },
  {
   "cell_type": "code",
   "execution_count": 93,
   "id": "719d5b1d",
   "metadata": {},
   "outputs": [
    {
     "name": "stdout",
     "output_type": "stream",
     "text": [
      "{'name': 'Mudasar', 'age': '36', 'city': 'Islamabad', 'profession': 'engineer', 'gender': 'male', 'country': 'Pakistan'}\n"
     ]
    }
   ],
   "source": [
    "# Nested Dictionary\n",
    "dic1= dict(name='Mudasar', age='36', city='Islamabad')\n",
    "dic2=dict(profession='engineer', gender='male', country= 'Pakistan')\n",
    "dic1.update(dic2)\n",
    "print (dic1)\n",
    "\n"
   ]
  },
  {
   "cell_type": "code",
   "execution_count": 94,
   "id": "0a2078c6",
   "metadata": {},
   "outputs": [
    {
     "name": "stdout",
     "output_type": "stream",
     "text": [
      "{'person': {1: {'name': 'A', 'age': 20, 'occupation': 'Software'}, 2: {'name': 'B', 'age': 21, 'occupation': 'CS'}, 3: {'name': 'C', 'age': 22, 'occupation': 'Dev'}}}\n"
     ]
    }
   ],
   "source": [
    "# Nested Dictionary\n",
    "person= {'person':{1:{'name':'A', 'age':20, 'occupation':'Software'}, 2:{'name':'B', 'age':21, 'occupation':'CS'}, 3:{'name':'C', 'age':22, 'occupation':'Dev'} }}\n",
    "print (person)"
   ]
  },
  {
   "cell_type": "code",
   "execution_count": 95,
   "id": "5ccb47dc",
   "metadata": {},
   "outputs": [
    {
     "name": "stdout",
     "output_type": "stream",
     "text": [
      "name\n",
      "age\n",
      "city\n"
     ]
    }
   ],
   "source": [
    "# Iterating over keys\n",
    "dic1= dict(name='Mudasar', age='36', city='Islamabad')\n",
    "for key in dic1:\n",
    "    print(key)"
   ]
  },
  {
   "cell_type": "code",
   "execution_count": 98,
   "id": "f58458aa",
   "metadata": {},
   "outputs": [
    {
     "name": "stdout",
     "output_type": "stream",
     "text": [
      "{1: {'name': 'A', 'age': 20, 'occupation': 'Software'}, 2: {'name': 'B', 'age': 21, 'occupation': 'CS'}, 3: {'name': 'C', 'age': 22, 'occupation': 'Dev'}}\n"
     ]
    }
   ],
   "source": [
    "# Iterating over values\n",
    "person= {'person':{1:{'name':'A', 'age':20, 'occupation':'Software'}, 2:{'name':'B', 'age':21, 'occupation':'CS'}, 3:{'name':'C', 'age':22, 'occupation':'Dev'} }}\n",
    "for value in person.values():\n",
    "    print(value)"
   ]
  },
  {
   "cell_type": "code",
   "execution_count": 99,
   "id": "98cc2db7",
   "metadata": {},
   "outputs": [
    {
     "name": "stdout",
     "output_type": "stream",
     "text": [
      "('person', {1: {'name': 'A', 'age': 20, 'occupation': 'Software'}, 2: {'name': 'B', 'age': 21, 'occupation': 'CS'}, 3: {'name': 'C', 'age': 22, 'occupation': 'Dev'}})\n"
     ]
    }
   ],
   "source": [
    "# Iterating over values\n",
    "person= {'person':{1:{'name':'A', 'age':20, 'occupation':'Software'}, 2:{'name':'B', 'age':21, 'occupation':'CS'}, 3:{'name':'C', 'age':22, 'occupation':'Dev'} }}\n",
    "for item in person.items():\n",
    "    print(item)"
   ]
  },
  {
   "cell_type": "code",
   "execution_count": 100,
   "id": "284167a7",
   "metadata": {},
   "outputs": [
    {
     "name": "stdout",
     "output_type": "stream",
     "text": [
      "Mudasar\n",
      "36\n",
      "Islamabad\n"
     ]
    }
   ],
   "source": [
    "person= dict(name='Mudasar', age='36', city='Islamabad')\n",
    "for value in person.values():\n",
    "    print(value)"
   ]
  },
  {
   "cell_type": "code",
   "execution_count": 101,
   "id": "e44af038",
   "metadata": {},
   "outputs": [
    {
     "name": "stdout",
     "output_type": "stream",
     "text": [
      "('name', 'Mudasar')\n",
      "('age', '36')\n",
      "('city', 'Islamabad')\n"
     ]
    }
   ],
   "source": [
    "person= dict(name='Mudasar', age='36', city='Islamabad')\n",
    "for item in person.items():\n",
    "    print(item)"
   ]
  },
  {
   "cell_type": "code",
   "execution_count": 102,
   "id": "39357457",
   "metadata": {},
   "outputs": [
    {
     "name": "stdout",
     "output_type": "stream",
     "text": [
      "name\n",
      "age\n",
      "city\n"
     ]
    }
   ],
   "source": [
    "person= dict(name='Mudasar', age='36', city='Islamabad')\n",
    "for key in person.keys():\n",
    "    print(key)"
   ]
  },
  {
   "cell_type": "code",
   "execution_count": 109,
   "id": "0355f60d",
   "metadata": {},
   "outputs": [
    {
     "name": "stdout",
     "output_type": "stream",
     "text": [
      "[2, 4, 6, 8]\n",
      "[2 4 6 8]\n"
     ]
    },
    {
     "data": {
      "text/plain": [
       "numpy.ndarray"
      ]
     },
     "execution_count": 109,
     "metadata": {},
     "output_type": "execute_result"
    }
   ],
   "source": [
    "# Numpy Library is used for arrays, as python does not have builting arrages, Numpy is for Scientific data, \n",
    "# 50x faster than python coz it is made in C/C++\n",
    "\n",
    "# pandas is used for data manuplation\n",
    "# scipy\n",
    "# Scikit-learn\n",
    "\n",
    "# Convert a list in to numpy array\n",
    "import numpy as np\n",
    "\n",
    "list1=[2, 4, 6, 8]\n",
    "print(list1)\n",
    "type(list1)\n",
    "\n",
    "array1= np.array(list1)\n",
    "print(array1)\n",
    "type(array1)"
   ]
  },
  {
   "cell_type": "code",
   "execution_count": 117,
   "id": "c7af900f",
   "metadata": {},
   "outputs": [
    {
     "name": "stdout",
     "output_type": "stream",
     "text": [
      "[0. 0. 0. 0.]\n"
     ]
    },
    {
     "ename": "TypeError",
     "evalue": "'numpy.dtype[float64]' object is not callable",
     "output_type": "error",
     "traceback": [
      "\u001b[1;31m---------------------------------------------------------------------------\u001b[0m",
      "\u001b[1;31mTypeError\u001b[0m                                 Traceback (most recent call last)",
      "Cell \u001b[1;32mIn[117], line 6\u001b[0m\n\u001b[0;32m      4\u001b[0m array2\u001b[38;5;241m=\u001b[39mnp\u001b[38;5;241m.\u001b[39mzeros(\u001b[38;5;241m4\u001b[39m)\n\u001b[0;32m      5\u001b[0m \u001b[38;5;28mprint\u001b[39m(array2)\n\u001b[1;32m----> 6\u001b[0m array2\u001b[38;5;241m.\u001b[39mdtype()\n",
      "\u001b[1;31mTypeError\u001b[0m: 'numpy.dtype[float64]' object is not callable"
     ]
    }
   ],
   "source": [
    "# Create an array of Zeros\n",
    "import numpy as np\n",
    "\n",
    "array2=np.zeros(4)\n",
    "print(array2)\n",
    "array2.dtype()"
   ]
  },
  {
   "cell_type": "code",
   "execution_count": 123,
   "id": "21d355a5",
   "metadata": {},
   "outputs": [
    {
     "name": "stdout",
     "output_type": "stream",
     "text": [
      "using np.arrange(5): [0 1 2 3]\n"
     ]
    }
   ],
   "source": [
    "import numpy as np\n",
    "array4=np.arange(4)\n",
    "print('using np.arrange(5):',array4)\n"
   ]
  },
  {
   "cell_type": "code",
   "execution_count": 122,
   "id": "f3f7356b",
   "metadata": {},
   "outputs": [
    {
     "name": "stdout",
     "output_type": "stream",
     "text": [
      "using np.arange(1,9,2): [0 1 2 3]\n"
     ]
    }
   ],
   "source": [
    "import numpy as np\n",
    "array4=np.arange(4)\n",
    "print('using np.arange(1,9,2):',array4)"
   ]
  },
  {
   "cell_type": "code",
   "execution_count": 120,
   "id": "aedb3b4c",
   "metadata": {},
   "outputs": [
    {
     "name": "stdout",
     "output_type": "stream",
     "text": [
      "[0.44101794 0.74389655 0.28276773 0.41371718 0.87710331]\n"
     ]
    }
   ],
   "source": [
    "# Using Random in Numpy array\n",
    "import numpy as np\n",
    "array6= np.random.rand(5)\n",
    "print(array6)"
   ]
  },
  {
   "cell_type": "code",
   "execution_count": 126,
   "id": "b1292b96",
   "metadata": {},
   "outputs": [
    {
     "name": "stdout",
     "output_type": "stream",
     "text": [
      "[[0.77192404 0.6997947 ]\n",
      " [0.8148032  0.08740542]]\n"
     ]
    }
   ],
   "source": [
    "import numpy as np\n",
    "array7= np.random.rand(2,2)\n",
    "print(array7)"
   ]
  },
  {
   "cell_type": "code",
   "execution_count": 129,
   "id": "363c989c",
   "metadata": {},
   "outputs": [
    {
     "name": "stdout",
     "output_type": "stream",
     "text": [
      "[[[0.65482821 0.50936285 0.13552899 0.89663028]\n",
      "  [0.25258128 0.01078035 0.71646725 0.35799526]\n",
      "  [0.53958004 0.88392056 0.18663653 0.72439647]]\n",
      "\n",
      " [[0.89647666 0.28492099 0.73817609 0.70572351]\n",
      "  [0.73710844 0.73183354 0.64659328 0.32676223]\n",
      "  [0.20227435 0.89694513 0.97507691 0.14864407]]]\n"
     ]
    }
   ],
   "source": [
    "# rand(Slice, Rows, Columns) command in random module of numpy library\n",
    "import numpy as np\n",
    "array8= np.random.rand(2,3,4)\n",
    "print(array8)"
   ]
  },
  {
   "cell_type": "code",
   "execution_count": 133,
   "id": "b273a046",
   "metadata": {},
   "outputs": [
    {
     "name": "stdout",
     "output_type": "stream",
     "text": [
      "[0.08740542]\n"
     ]
    }
   ],
   "source": [
    "#  empty module in numpy \n",
    "import numpy as np\n",
    "array10= np.empty(1)\n",
    "print(array10)"
   ]
  },
  {
   "cell_type": "code",
   "execution_count": 134,
   "id": "5a65cda4",
   "metadata": {},
   "outputs": [
    {
     "name": "stdout",
     "output_type": "stream",
     "text": [
      "[0.77192404 0.6997947  0.8148032  0.08740542]\n"
     ]
    }
   ],
   "source": [
    "\n",
    "import numpy as np\n",
    "array10= np.empty(4)\n",
    "print(array10)"
   ]
  },
  {
   "cell_type": "code",
   "execution_count": 137,
   "id": "bc4a2e4d",
   "metadata": {},
   "outputs": [
    {
     "name": "stdout",
     "output_type": "stream",
     "text": [
      "[[1 2 3 4]\n",
      " [5 6 7 8]]\n"
     ]
    }
   ],
   "source": [
    "# Create a 2D Numpy Array with 2 rows and 4 Colums\n",
    "import numpy as np\n",
    "array11= np.array([[1, 2, 3, 4 ],[5, 6, 7, 8]])\n",
    "print(array11)"
   ]
  },
  {
   "cell_type": "code",
   "execution_count": 138,
   "id": "c26091ad",
   "metadata": {},
   "outputs": [
    {
     "ename": "ValueError",
     "evalue": "setting an array element with a sequence. The requested array has an inhomogeneous shape after 1 dimensions. The detected shape was (2,) + inhomogeneous part.",
     "output_type": "error",
     "traceback": [
      "\u001b[1;31m---------------------------------------------------------------------------\u001b[0m",
      "\u001b[1;31mValueError\u001b[0m                                Traceback (most recent call last)",
      "Cell \u001b[1;32mIn[138], line 3\u001b[0m\n\u001b[0;32m      1\u001b[0m \u001b[38;5;66;03m# Create a 2D Numpy Array with 2 rows and 4 Colums\u001b[39;00m\n\u001b[0;32m      2\u001b[0m \u001b[38;5;28;01mimport\u001b[39;00m \u001b[38;5;21;01mnumpy\u001b[39;00m \u001b[38;5;28;01mas\u001b[39;00m \u001b[38;5;21;01mnp\u001b[39;00m\n\u001b[1;32m----> 3\u001b[0m array11\u001b[38;5;241m=\u001b[39m np\u001b[38;5;241m.\u001b[39marray([[\u001b[38;5;241m1\u001b[39m, \u001b[38;5;241m2\u001b[39m, \u001b[38;5;241m3\u001b[39m, \u001b[38;5;241m4\u001b[39m ],[\u001b[38;5;241m5\u001b[39m, \u001b[38;5;241m6\u001b[39m, \u001b[38;5;241m7\u001b[39m, \u001b[38;5;241m8\u001b[39m, \u001b[38;5;241m9\u001b[39m]])\n\u001b[0;32m      4\u001b[0m \u001b[38;5;28mprint\u001b[39m(array11)\n",
      "\u001b[1;31mValueError\u001b[0m: setting an array element with a sequence. The requested array has an inhomogeneous shape after 1 dimensions. The detected shape was (2,) + inhomogeneous part."
     ]
    }
   ],
   "source": [
    "# Create a 2D Numpy Array with 2 rows and 4 Colums/ Columns must be same otherwie error\n",
    "import numpy as np\n",
    "array11= np.array([[1, 2, 3, 4 ],[5, 6, 7, 8, 9]])\n",
    "print(array11)"
   ]
  },
  {
   "cell_type": "code",
   "execution_count": 156,
   "id": "fe367151",
   "metadata": {},
   "outputs": [
    {
     "name": "stdout",
     "output_type": "stream",
     "text": [
      "[[ 1  2  3  4]\n",
      " [ 5  6  7  8]\n",
      " [ 9 10 11 12]\n",
      " [13 14 15 16]\n",
      " [17 18 19 20]\n",
      " [21 22 23 24]\n",
      " [25 26 27 28]\n",
      " [29 30 31 32]\n",
      " [33 34 35 36]]\n"
     ]
    }
   ],
   "source": [
    "# Create a 2D Numpy Array with 2 rows and 4 Colums\n",
    "import numpy as np\n",
    "array11= np.array([[1, 2, 3, 4 ],[5, 6, 7, 8],[9, 10, 11, 12],\n",
    "                  [13, 14, 15, 16 ],[17, 18, 19, 20], [21, 22, 23, 24],\n",
    "                  [25, 26, 27, 28 ],[29, 30, 31, 32], [33, 34, 35, 36]])\n",
    "print(array11)"
   ]
  },
  {
   "cell_type": "code",
   "execution_count": 142,
   "id": "a69d70bb",
   "metadata": {},
   "outputs": [
    {
     "name": "stdout",
     "output_type": "stream",
     "text": [
      "[[[0.02260137 0.11963775 0.10048293]\n",
      "  [0.39098778 0.53535304 0.6470062 ]\n",
      "  [0.51386832 0.40076872 0.44982333]]\n",
      "\n",
      " [[0.51560361 0.16196793 0.77208063]\n",
      "  [0.4175857  0.8760971  0.15868434]\n",
      "  [0.96650779 0.87112417 0.93180327]]\n",
      "\n",
      " [[0.29762575 0.17086186 0.17227325]\n",
      "  [0.09628367 0.18495681 0.24695055]\n",
      "  [0.08726298 0.69399209 0.31536544]]]\n"
     ]
    }
   ],
   "source": [
    "#Multi dimenstional array\n",
    "import numpy as np\n",
    "array12= np.random.rand(3,3,3)\n",
    "print(array12)"
   ]
  },
  {
   "cell_type": "code",
   "execution_count": 150,
   "id": "1ef69d9c",
   "metadata": {},
   "outputs": [
    {
     "name": "stdout",
     "output_type": "stream",
     "text": [
      "[[[0. 0.]\n",
      "  [0. 0.]]\n",
      "\n",
      " [[0. 0.]\n",
      "  [0. 0.]]\n",
      "\n",
      " [[0. 0.]\n",
      "  [0. 0.]]]\n"
     ]
    }
   ],
   "source": [
    "#Multi dimenstional zeros array\n",
    "import numpy as np\n",
    "array13= np.zeros((3,2,2))\n",
    "print(array13)"
   ]
  },
  {
   "cell_type": "code",
   "execution_count": 159,
   "id": "4d08cf45",
   "metadata": {},
   "outputs": [
    {
     "name": "stdout",
     "output_type": "stream",
     "text": [
      "[ 1  3  5  7  9 11 13 15]\n"
     ]
    }
   ],
   "source": [
    "#Multi dimenstional array NP arange()\n",
    "import numpy as np\n",
    "array14= np.arange(1,17,2)\n",
    "print(array14)"
   ]
  },
  {
   "cell_type": "code",
   "execution_count": 160,
   "id": "960f9114",
   "metadata": {},
   "outputs": [
    {
     "name": "stdout",
     "output_type": "stream",
     "text": [
      "[[5 5]\n",
      " [5 5]]\n"
     ]
    }
   ],
   "source": [
    "import numpy as np\n",
    "array15= np.full((2,2),5)\n",
    "print(array15)"
   ]
  },
  {
   "cell_type": "code",
   "execution_count": 161,
   "id": "9cdf52c1",
   "metadata": {},
   "outputs": [
    {
     "name": "stdout",
     "output_type": "stream",
     "text": [
      "[[[5 5]\n",
      "  [5 5]]\n",
      "\n",
      " [[5 5]\n",
      "  [5 5]]]\n"
     ]
    }
   ],
   "source": [
    "# Create a 3D array with elements initialized to 5 (slince, rows, columns)\n",
    "import numpy as np\n",
    "array15= np.full((2,2,2),5)\n",
    "print(array15)"
   ]
  },
  {
   "cell_type": "code",
   "execution_count": 162,
   "id": "2adb3d63",
   "metadata": {},
   "outputs": [
    {
     "data": {
      "text/plain": [
       "3"
      ]
     },
     "execution_count": 162,
     "metadata": {},
     "output_type": "execute_result"
    }
   ],
   "source": [
    "# Dimension of array with ndim attribute\n",
    "array15= np.full((2,2,2),5)\n",
    "array15.ndim"
   ]
  },
  {
   "cell_type": "code",
   "execution_count": 163,
   "id": "26940240",
   "metadata": {},
   "outputs": [
    {
     "data": {
      "text/plain": [
       "8"
      ]
     },
     "execution_count": 163,
     "metadata": {},
     "output_type": "execute_result"
    }
   ],
   "source": [
    "array15= np.full((2,2,2),5)\n",
    "array15.size"
   ]
  },
  {
   "cell_type": "code",
   "execution_count": 164,
   "id": "5b24334d",
   "metadata": {},
   "outputs": [
    {
     "data": {
      "text/plain": [
       "dtype('int32')"
      ]
     },
     "execution_count": 164,
     "metadata": {},
     "output_type": "execute_result"
    }
   ],
   "source": [
    "array15= np.full((2,2,2),5)\n",
    "array15.dtype"
   ]
  },
  {
   "cell_type": "code",
   "execution_count": 165,
   "id": "6e37fa28",
   "metadata": {},
   "outputs": [
    {
     "data": {
      "text/plain": [
       "(2, 2, 2)"
      ]
     },
     "execution_count": 165,
     "metadata": {},
     "output_type": "execute_result"
    }
   ],
   "source": [
    "array15= np.full((2,2,2),5)\n",
    "array15.shape"
   ]
  },
  {
   "cell_type": "code",
   "execution_count": null,
   "id": "5b4cedff",
   "metadata": {},
   "outputs": [],
   "source": []
  }
 ],
 "metadata": {
  "kernelspec": {
   "display_name": "Python 3 (ipykernel)",
   "language": "python",
   "name": "python3"
  },
  "language_info": {
   "codemirror_mode": {
    "name": "ipython",
    "version": 3
   },
   "file_extension": ".py",
   "mimetype": "text/x-python",
   "name": "python",
   "nbconvert_exporter": "python",
   "pygments_lexer": "ipython3",
   "version": "3.11.3"
  }
 },
 "nbformat": 4,
 "nbformat_minor": 5
}
