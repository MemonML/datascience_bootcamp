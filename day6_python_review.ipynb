{
  "nbformat": 4,
  "nbformat_minor": 0,
  "metadata": {
    "colab": {
      "provenance": [],
      "authorship_tag": "ABX9TyP6FxIWWLjgtNNdPDZVt8sz",
      "include_colab_link": true
    },
    "kernelspec": {
      "name": "python3",
      "display_name": "Python 3"
    },
    "language_info": {
      "name": "python"
    }
  },
  "cells": [
    {
      "cell_type": "markdown",
      "metadata": {
        "id": "view-in-github",
        "colab_type": "text"
      },
      "source": [
        "<a href=\"https://colab.research.google.com/github/MemonML/datascience_bootcamp/blob/main/day6_python_review.ipynb\" target=\"_parent\"><img src=\"https://colab.research.google.com/assets/colab-badge.svg\" alt=\"Open In Colab\"/></a>"
      ]
    },
    {
      "cell_type": "code",
      "source": [
        "print( t and f)"
      ],
      "metadata": {
        "colab": {
          "base_uri": "https://localhost:8080/"
        },
        "id": "7MTbm7OHwCPI",
        "outputId": "8b2ebe70-b624-49d2-a9ef-4aca2bc9349d"
      },
      "execution_count": null,
      "outputs": [
        {
          "output_type": "stream",
          "name": "stdout",
          "text": [
            "False\n"
          ]
        }
      ]
    },
    {
      "cell_type": "code",
      "execution_count": null,
      "metadata": {
        "id": "n1Aap1t6uRHw",
        "colab": {
          "base_uri": "https://localhost:8080/"
        },
        "outputId": "7907fa23-2d03-4f29-d5bf-cfa6047b4598"
      },
      "outputs": [
        {
          "output_type": "stream",
          "name": "stdout",
          "text": [
            "4\n"
          ]
        }
      ],
      "source": [
        "x=2\n",
        "print (x**2)"
      ]
    },
    {
      "cell_type": "code",
      "source": [
        "print(type(x))"
      ],
      "metadata": {
        "colab": {
          "base_uri": "https://localhost:8080/"
        },
        "id": "QNro32lgumTI",
        "outputId": "a7ec01fd-4ba3-4f61-fa70-f3e2db6e787b"
      },
      "execution_count": null,
      "outputs": [
        {
          "output_type": "stream",
          "name": "stdout",
          "text": [
            "<class 'int'>\n"
          ]
        }
      ]
    },
    {
      "cell_type": "code",
      "source": [
        "y=2.3\n",
        "print(type(y))"
      ],
      "metadata": {
        "colab": {
          "base_uri": "https://localhost:8080/"
        },
        "id": "VIEsXhT-uwI1",
        "outputId": "d10ae4df-a537-40c6-8837-8104fb33ed39"
      },
      "execution_count": null,
      "outputs": [
        {
          "output_type": "stream",
          "name": "stdout",
          "text": [
            "<class 'float'>\n"
          ]
        }
      ]
    },
    {
      "cell_type": "code",
      "source": [
        "t, f = True, False\n",
        "print (type(t), type(f))\n",
        "print(t,f)"
      ],
      "metadata": {
        "colab": {
          "base_uri": "https://localhost:8080/"
        },
        "id": "O849eDRxu39R",
        "outputId": "083215a1-a469-4a28-d1db-85e1abe857b5"
      },
      "execution_count": null,
      "outputs": [
        {
          "output_type": "stream",
          "name": "stdout",
          "text": [
            "<class 'bool'> <class 'bool'>\n",
            "True False\n"
          ]
        }
      ]
    },
    {
      "cell_type": "code",
      "source": [],
      "metadata": {
        "id": "_1XAT9Oiu_wh"
      },
      "execution_count": null,
      "outputs": []
    },
    {
      "cell_type": "markdown",
      "source": [
        "# OR Logical Operators are used in Masking application"
      ],
      "metadata": {
        "id": "05TfukpG0_fN"
      }
    },
    {
      "cell_type": "code",
      "source": [
        "print(t or f)"
      ],
      "metadata": {
        "colab": {
          "base_uri": "https://localhost:8080/"
        },
        "id": "Seagn8hlwGkC",
        "outputId": "0f7207ad-9555-4067-e027-da58524add05"
      },
      "execution_count": null,
      "outputs": [
        {
          "output_type": "stream",
          "name": "stdout",
          "text": [
            "True\n"
          ]
        }
      ]
    },
    {
      "cell_type": "code",
      "source": [
        "print(not t)"
      ],
      "metadata": {
        "colab": {
          "base_uri": "https://localhost:8080/"
        },
        "id": "P_iWO4I8wKel",
        "outputId": "4bf75617-36ce-4814-d16a-8fd56aa8ad43"
      },
      "execution_count": null,
      "outputs": [
        {
          "output_type": "stream",
          "name": "stdout",
          "text": [
            "False\n"
          ]
        }
      ]
    },
    {
      "cell_type": "code",
      "source": [
        "print(t !=f )"
      ],
      "metadata": {
        "colab": {
          "base_uri": "https://localhost:8080/"
        },
        "id": "NbSZ_wX4wNr7",
        "outputId": "063adbc9-a955-4c3b-9a9b-3b0824d0c2a2"
      },
      "execution_count": null,
      "outputs": [
        {
          "output_type": "stream",
          "name": "stdout",
          "text": [
            "True\n"
          ]
        }
      ]
    },
    {
      "cell_type": "code",
      "source": [
        "# Strings"
      ],
      "metadata": {
        "id": "tdd9uf6bwRnj"
      },
      "execution_count": null,
      "outputs": []
    },
    {
      "cell_type": "code",
      "source": [
        "h= 'hello'\n",
        "w= \"world\""
      ],
      "metadata": {
        "id": "3PROYWxiwePt"
      },
      "execution_count": null,
      "outputs": []
    },
    {
      "cell_type": "code",
      "source": [
        "print (h, type (h))"
      ],
      "metadata": {
        "colab": {
          "base_uri": "https://localhost:8080/"
        },
        "id": "D0giT2rkwrw9",
        "outputId": "a770abbb-24c9-4ef2-f017-187ca37bb863"
      },
      "execution_count": null,
      "outputs": [
        {
          "output_type": "stream",
          "name": "stdout",
          "text": [
            "hello <class 'str'>\n"
          ]
        }
      ]
    },
    {
      "cell_type": "code",
      "source": [
        "hw= h+ '    '+ w\n",
        "print (hw)"
      ],
      "metadata": {
        "colab": {
          "base_uri": "https://localhost:8080/"
        },
        "id": "xg1g6xkBwug-",
        "outputId": "d508f85d-ba26-4e13-965e-c277e7243141"
      },
      "execution_count": null,
      "outputs": [
        {
          "output_type": "stream",
          "name": "stdout",
          "text": [
            "hello    world\n"
          ]
        }
      ]
    },
    {
      "cell_type": "code",
      "source": [
        "hw.upper()"
      ],
      "metadata": {
        "colab": {
          "base_uri": "https://localhost:8080/",
          "height": 35
        },
        "id": "scfXQlfEw6uS",
        "outputId": "836523cc-e620-417b-8d18-bbbd8cf39622"
      },
      "execution_count": null,
      "outputs": [
        {
          "output_type": "execute_result",
          "data": {
            "text/plain": [
              "'HELLO    WORLD'"
            ],
            "application/vnd.google.colaboratory.intrinsic+json": {
              "type": "string"
            }
          },
          "metadata": {},
          "execution_count": 19
        }
      ]
    },
    {
      "cell_type": "code",
      "source": [
        "hw.lower()"
      ],
      "metadata": {
        "colab": {
          "base_uri": "https://localhost:8080/",
          "height": 35
        },
        "id": "oQVGvQ2IxGNv",
        "outputId": "51991399-8aa4-4c0e-a001-f2b636035d77"
      },
      "execution_count": null,
      "outputs": [
        {
          "output_type": "execute_result",
          "data": {
            "text/plain": [
              "'hello    world'"
            ],
            "application/vnd.google.colaboratory.intrinsic+json": {
              "type": "string"
            }
          },
          "metadata": {},
          "execution_count": 20
        }
      ]
    },
    {
      "cell_type": "code",
      "source": [
        "hw.count('o')"
      ],
      "metadata": {
        "colab": {
          "base_uri": "https://localhost:8080/"
        },
        "id": "ZcjaLvx8xICx",
        "outputId": "ce765e6d-49d2-456b-d6c2-657b07768b6f"
      },
      "execution_count": null,
      "outputs": [
        {
          "output_type": "execute_result",
          "data": {
            "text/plain": [
              "2"
            ]
          },
          "metadata": {},
          "execution_count": 21
        }
      ]
    },
    {
      "cell_type": "code",
      "source": [
        "hw.count??"
      ],
      "metadata": {
        "id": "VtIOKdYFxM_k"
      },
      "execution_count": null,
      "outputs": []
    },
    {
      "cell_type": "code",
      "source": [
        "\n",
        "print(hw.replace('l','ell'))"
      ],
      "metadata": {
        "colab": {
          "base_uri": "https://localhost:8080/"
        },
        "id": "GzP1AA3gxU0S",
        "outputId": "29b9ec3d-c842-4f58-f3de-480521897661"
      },
      "execution_count": null,
      "outputs": [
        {
          "output_type": "stream",
          "name": "stdout",
          "text": [
            "heellello    worelld\n"
          ]
        }
      ]
    },
    {
      "cell_type": "code",
      "source": [
        "hw.replace??"
      ],
      "metadata": {
        "id": "DVN2NcY6xseu"
      },
      "execution_count": null,
      "outputs": []
    },
    {
      "cell_type": "code",
      "source": [
        "st= ' This is a car'\n",
        "print (st.split(' '))"
      ],
      "metadata": {
        "colab": {
          "base_uri": "https://localhost:8080/"
        },
        "id": "m2GRgVfMx44Y",
        "outputId": "dbbf521f-90ea-4283-8f9c-ab02248cd973"
      },
      "execution_count": null,
      "outputs": [
        {
          "output_type": "stream",
          "name": "stdout",
          "text": [
            "['', 'This', 'is', 'a', 'car']\n"
          ]
        }
      ]
    },
    {
      "cell_type": "code",
      "source": [
        "st= ' This is a car'\n",
        "print (st.count('car'))\n",
        "type(st)"
      ],
      "metadata": {
        "colab": {
          "base_uri": "https://localhost:8080/"
        },
        "id": "INpMTKkqykcu",
        "outputId": "096f14d4-ab73-4545-fc9d-93eab91e0b37"
      },
      "execution_count": null,
      "outputs": [
        {
          "output_type": "stream",
          "name": "stdout",
          "text": [
            "1\n"
          ]
        },
        {
          "output_type": "execute_result",
          "data": {
            "text/plain": [
              "str"
            ]
          },
          "metadata": {},
          "execution_count": 31
        }
      ]
    },
    {
      "cell_type": "markdown",
      "source": [
        "# List / Data Containers"
      ],
      "metadata": {
        "id": "upeo0O2m07sg"
      }
    },
    {
      "cell_type": "code",
      "source": [
        "xs= [1,2,3,4, -9]\n",
        "print(xs)"
      ],
      "metadata": {
        "colab": {
          "base_uri": "https://localhost:8080/"
        },
        "id": "6VVDs6wOzXgQ",
        "outputId": "b3add14a-0030-4778-8fab-2dee99356486"
      },
      "execution_count": null,
      "outputs": [
        {
          "output_type": "stream",
          "name": "stdout",
          "text": [
            "[1, 2, 3, 4, -9]\n"
          ]
        }
      ]
    },
    {
      "cell_type": "code",
      "source": [
        "print(type(xs))"
      ],
      "metadata": {
        "colab": {
          "base_uri": "https://localhost:8080/"
        },
        "id": "ypyYbhv8zkMt",
        "outputId": "55880b39-f284-4ec0-b499-192ebe99de1c"
      },
      "execution_count": null,
      "outputs": [
        {
          "output_type": "stream",
          "name": "stdout",
          "text": [
            "<class 'list'>\n"
          ]
        }
      ]
    },
    {
      "cell_type": "code",
      "source": [
        "print(xs[2])"
      ],
      "metadata": {
        "colab": {
          "base_uri": "https://localhost:8080/"
        },
        "id": "Yl6TGAvJzq9v",
        "outputId": "205c73ce-8b18-4cd7-9666-22ce0d5fde67"
      },
      "execution_count": null,
      "outputs": [
        {
          "output_type": "stream",
          "name": "stdout",
          "text": [
            "3\n"
          ]
        }
      ]
    },
    {
      "cell_type": "code",
      "source": [
        "xs.append(-10)"
      ],
      "metadata": {
        "id": "0LkQYhyDzvg7"
      },
      "execution_count": null,
      "outputs": []
    },
    {
      "cell_type": "code",
      "source": [
        "print(xs)"
      ],
      "metadata": {
        "colab": {
          "base_uri": "https://localhost:8080/"
        },
        "id": "hrcq0WRSz1PT",
        "outputId": "9aadb309-b692-4b6a-9953-f7d09c7a04a7"
      },
      "execution_count": null,
      "outputs": [
        {
          "output_type": "stream",
          "name": "stdout",
          "text": [
            "[1, 2, 3]\n"
          ]
        }
      ]
    },
    {
      "cell_type": "markdown",
      "source": [
        "# Pop function will pop the last value and will remove that element from the list"
      ],
      "metadata": {
        "id": "myRCCzpP0zXe"
      }
    },
    {
      "cell_type": "code",
      "source": [
        "\n",
        "x=xs.pop()\n",
        "print (xs)\n",
        "print(x)"
      ],
      "metadata": {
        "colab": {
          "base_uri": "https://localhost:8080/"
        },
        "id": "HwidqgLVz2kg",
        "outputId": "421ce803-ba68-46a5-922b-c108afe3d7c2"
      },
      "execution_count": null,
      "outputs": [
        {
          "output_type": "stream",
          "name": "stdout",
          "text": [
            "[1, 2, 3]\n",
            "4\n"
          ]
        }
      ]
    },
    {
      "cell_type": "code",
      "source": [
        "xs[-1]"
      ],
      "metadata": {
        "colab": {
          "base_uri": "https://localhost:8080/"
        },
        "id": "GQzvqQlzz9B6",
        "outputId": "2396d2a4-0bca-41ab-e1cb-4ee6ecaac040"
      },
      "execution_count": null,
      "outputs": [
        {
          "output_type": "execute_result",
          "data": {
            "text/plain": [
              "3"
            ]
          },
          "metadata": {},
          "execution_count": 45
        }
      ]
    },
    {
      "cell_type": "code",
      "source": [
        "print(len(xs))"
      ],
      "metadata": {
        "colab": {
          "base_uri": "https://localhost:8080/"
        },
        "id": "WpBpRLJE0UGl",
        "outputId": "c613d7f0-01cc-4cb3-98dd-b0148b70b19e"
      },
      "execution_count": null,
      "outputs": [
        {
          "output_type": "stream",
          "name": "stdout",
          "text": [
            "3\n"
          ]
        }
      ]
    },
    {
      "cell_type": "code",
      "source": [
        "text= 'My Name is Mudasar Latif Memon, I have completed my Ph.D. from SKKU. I love to learn the data science cource'\n",
        "print (text)\n",
        "text1=text.replace('love', 'like')\n",
        "print (text1)"
      ],
      "metadata": {
        "id": "d9QLvqx60cs3",
        "colab": {
          "base_uri": "https://localhost:8080/"
        },
        "outputId": "b04cb5cf-7377-407a-f82a-35dff19cd35d"
      },
      "execution_count": null,
      "outputs": [
        {
          "output_type": "stream",
          "name": "stdout",
          "text": [
            "My Name is Mudasar Latif Memon, I have completed my Ph.D. from SKKU. I love to learn the data science cource\n",
            "My Name is Mudasar Latif Memon, I have completed my Ph.D. from SKKU. I like to learn the data science cource\n"
          ]
        }
      ]
    },
    {
      "cell_type": "code",
      "source": [
        "text.replace??"
      ],
      "metadata": {
        "id": "Jh_dSsfl1iKx"
      },
      "execution_count": null,
      "outputs": []
    },
    {
      "cell_type": "code",
      "source": [
        "nums= list(range(5))\n",
        "print(nums)"
      ],
      "metadata": {
        "id": "0Stb4Lxj1scf",
        "colab": {
          "base_uri": "https://localhost:8080/"
        },
        "outputId": "ef1f9821-b52f-4174-ae57-e09666f75787"
      },
      "execution_count": null,
      "outputs": [
        {
          "output_type": "stream",
          "name": "stdout",
          "text": [
            "[0, 1, 2, 3, 4]\n"
          ]
        }
      ]
    },
    {
      "cell_type": "markdown",
      "source": [
        "It will acces the numbers but will exclude the upper limit"
      ],
      "metadata": {
        "id": "0jZ0mlr43UXs"
      }
    },
    {
      "cell_type": "code",
      "source": [
        "nums[0:2]"
      ],
      "metadata": {
        "colab": {
          "base_uri": "https://localhost:8080/"
        },
        "id": "aL2FxO9z3IT9",
        "outputId": "b80a517a-4b4c-4eee-996c-9796f0daf519"
      },
      "execution_count": null,
      "outputs": [
        {
          "output_type": "execute_result",
          "data": {
            "text/plain": [
              "[0, 1]"
            ]
          },
          "metadata": {},
          "execution_count": 53
        }
      ]
    },
    {
      "cell_type": "markdown",
      "source": [
        "In the new version, error does not appear if we give the limit outer thant the list index"
      ],
      "metadata": {
        "id": "n2PGKddv3xJT"
      }
    },
    {
      "cell_type": "code",
      "source": [
        "print (nums[0:7])"
      ],
      "metadata": {
        "colab": {
          "base_uri": "https://localhost:8080/"
        },
        "id": "q_pbS73M3RcZ",
        "outputId": "7d513604-589f-4ecf-8324-bf0b9c2155d9"
      },
      "execution_count": null,
      "outputs": [
        {
          "output_type": "stream",
          "name": "stdout",
          "text": [
            "[0, 1, 2, 3, 4]\n"
          ]
        }
      ]
    },
    {
      "cell_type": "code",
      "source": [
        "print(nums[:])"
      ],
      "metadata": {
        "colab": {
          "base_uri": "https://localhost:8080/"
        },
        "id": "y1yljAYy3ly9",
        "outputId": "9263f25c-513e-4805-a00e-b78dca9a982a"
      },
      "execution_count": null,
      "outputs": [
        {
          "output_type": "stream",
          "name": "stdout",
          "text": [
            "[0, 1, 2, 3, 4]\n"
          ]
        }
      ]
    },
    {
      "cell_type": "code",
      "source": [
        "print(nums[::-2])"
      ],
      "metadata": {
        "colab": {
          "base_uri": "https://localhost:8080/"
        },
        "id": "Zpk4Jz7L4HD0",
        "outputId": "029de713-fcd7-477c-9ddd-f20b9f38e7cb"
      },
      "execution_count": null,
      "outputs": [
        {
          "output_type": "stream",
          "name": "stdout",
          "text": [
            "[4, 2, 0]\n"
          ]
        }
      ]
    },
    {
      "cell_type": "code",
      "source": [
        "print(nums[0:2:2])"
      ],
      "metadata": {
        "colab": {
          "base_uri": "https://localhost:8080/"
        },
        "id": "BXOrwswB4Nn6",
        "outputId": "d9ae042d-dc57-4319-ce45-fc10dfc80ac7"
      },
      "execution_count": null,
      "outputs": [
        {
          "output_type": "stream",
          "name": "stdout",
          "text": [
            "[0]\n"
          ]
        }
      ]
    },
    {
      "cell_type": "markdown",
      "source": [
        "# List can have different data types"
      ],
      "metadata": {
        "id": "89WNOwhM505T"
      }
    },
    {
      "cell_type": "code",
      "source": [
        "list1= ['s',['ccc', 'ddd','eee','fff'], range(5), 'g',['hh','ii','jj' ]]\n",
        "print(list1)\n",
        "'ddd' in list1"
      ],
      "metadata": {
        "colab": {
          "base_uri": "https://localhost:8080/"
        },
        "id": "sdysdolc4lJQ",
        "outputId": "17494965-e1db-44b8-ebe6-eda0d0dab875"
      },
      "execution_count": null,
      "outputs": [
        {
          "output_type": "stream",
          "name": "stdout",
          "text": [
            "['s', ['ccc', 'ddd', 'eee', 'fff'], range(0, 5), 'g', ['hh', 'ii', 'jj']]\n"
          ]
        },
        {
          "output_type": "execute_result",
          "data": {
            "text/plain": [
              "False"
            ]
          },
          "metadata": {},
          "execution_count": 61
        }
      ]
    },
    {
      "cell_type": "code",
      "source": [
        "'ddd' in list1[1]"
      ],
      "metadata": {
        "colab": {
          "base_uri": "https://localhost:8080/"
        },
        "id": "YPEYgi2-6bzO",
        "outputId": "9289a6c4-6ee2-4977-bc4a-92ef069e046b"
      },
      "execution_count": null,
      "outputs": [
        {
          "output_type": "execute_result",
          "data": {
            "text/plain": [
              "True"
            ]
          },
          "metadata": {},
          "execution_count": 59
        }
      ]
    },
    {
      "cell_type": "markdown",
      "source": [
        "List Methods\n",
        "We can not multiply or add in list"
      ],
      "metadata": {
        "id": "vkKhS3337Im_"
      }
    },
    {
      "cell_type": "code",
      "source": [
        "list1=['1','2','3','4']\n",
        "list1*2"
      ],
      "metadata": {
        "colab": {
          "base_uri": "https://localhost:8080/"
        },
        "id": "5x7SEr-V6gOP",
        "outputId": "f08285b9-fa95-4bf4-cb32-aff5549c9a23"
      },
      "execution_count": null,
      "outputs": [
        {
          "output_type": "execute_result",
          "data": {
            "text/plain": [
              "['1', '2', '3', '4', '1', '2', '3', '4']"
            ]
          },
          "metadata": {},
          "execution_count": 62
        }
      ]
    },
    {
      "cell_type": "code",
      "source": [
        "list1=['1','2','3','4']\n",
        "list2=['5','6','7','8']\n",
        "list1+ list2 # Concatenation"
      ],
      "metadata": {
        "colab": {
          "base_uri": "https://localhost:8080/"
        },
        "id": "Yq-H4a-S7Y_z",
        "outputId": "6b931ded-c360-47e4-ba1a-f96c9b88268a"
      },
      "execution_count": null,
      "outputs": [
        {
          "output_type": "execute_result",
          "data": {
            "text/plain": [
              "['1', '2', '3', '4', '5', '6', '7', '8']"
            ]
          },
          "metadata": {},
          "execution_count": 64
        }
      ]
    },
    {
      "cell_type": "code",
      "source": [
        "print (list1+['1000'])"
      ],
      "metadata": {
        "colab": {
          "base_uri": "https://localhost:8080/"
        },
        "id": "eGJhL41Y7qS9",
        "outputId": "6373ef8d-7bc0-4333-9acb-8cc113a1f113"
      },
      "execution_count": null,
      "outputs": [
        {
          "output_type": "stream",
          "name": "stdout",
          "text": [
            "['1', '2', '3', '4', '1000']\n"
          ]
        }
      ]
    },
    {
      "cell_type": "code",
      "source": [
        "x=1\n",
        "x=x+1\n",
        "print(x)\n"
      ],
      "metadata": {
        "colab": {
          "base_uri": "https://localhost:8080/"
        },
        "id": "icJJ0CF772OQ",
        "outputId": "5fe8e0ed-298c-4437-d0a9-cffdb0ab209d"
      },
      "execution_count": null,
      "outputs": [
        {
          "output_type": "stream",
          "name": "stdout",
          "text": [
            "2\n"
          ]
        }
      ]
    },
    {
      "cell_type": "code",
      "source": [
        "a=['1','2','3','4']\n",
        "a.append(5.0)"
      ],
      "metadata": {
        "id": "orZYUYs08Dlh"
      },
      "execution_count": null,
      "outputs": []
    },
    {
      "cell_type": "code",
      "source": [
        "a.insert(0, list(range(5)))\n",
        "print(a)"
      ],
      "metadata": {
        "colab": {
          "base_uri": "https://localhost:8080/"
        },
        "id": "rtaW2iWI8RDZ",
        "outputId": "be2d7e8f-8229-4490-b656-720d54bd9c2d"
      },
      "execution_count": null,
      "outputs": [
        {
          "output_type": "stream",
          "name": "stdout",
          "text": [
            "[[0, 1, 2, 3, 4], [0, 1, 2, 3, 4], [0, 1, 2, 3, 4], '1', '2', '3', '4', 5.0]\n"
          ]
        }
      ]
    },
    {
      "cell_type": "code",
      "source": [
        "list1=['1','2','3','4']\n",
        "list2=['5','6','7','8']\n",
        "list3=list1+list2"
      ],
      "metadata": {
        "id": "8El61sb08zG7"
      },
      "execution_count": null,
      "outputs": []
    },
    {
      "cell_type": "code",
      "source": [
        "print (list3)"
      ],
      "metadata": {
        "colab": {
          "base_uri": "https://localhost:8080/"
        },
        "id": "bswoVBjUQIkF",
        "outputId": "037736f3-34c1-49b0-ea38-5590c2bf5f30"
      },
      "execution_count": null,
      "outputs": [
        {
          "output_type": "stream",
          "name": "stdout",
          "text": [
            "['1', '2', '3', '4', '5', '6', '7', '8']\n"
          ]
        }
      ]
    },
    {
      "cell_type": "code",
      "source": [
        "list4=[]\n",
        "list4.extend(list2)\n",
        "print(list4)"
      ],
      "metadata": {
        "colab": {
          "base_uri": "https://localhost:8080/"
        },
        "id": "OPUihjCKQLgU",
        "outputId": "3c439008-35ed-45a6-ce14-eb604aed0348"
      },
      "execution_count": null,
      "outputs": [
        {
          "output_type": "stream",
          "name": "stdout",
          "text": [
            "['5', '6', '7', '8']\n"
          ]
        }
      ]
    },
    {
      "cell_type": "code",
      "source": [
        "del list4[::2]"
      ],
      "metadata": {
        "id": "t5NBBBgPQZvT"
      },
      "execution_count": null,
      "outputs": []
    },
    {
      "cell_type": "code",
      "source": [
        "print (list4)"
      ],
      "metadata": {
        "colab": {
          "base_uri": "https://localhost:8080/"
        },
        "id": "AbWl6NehQlAq",
        "outputId": "577b2dfc-141c-49d9-94ed-97faa23a0d5e"
      },
      "execution_count": null,
      "outputs": [
        {
          "output_type": "stream",
          "name": "stdout",
          "text": [
            "['6', '8']\n"
          ]
        }
      ]
    },
    {
      "cell_type": "code",
      "source": [
        "print(list3)\n",
        "list3.index('2')"
      ],
      "metadata": {
        "colab": {
          "base_uri": "https://localhost:8080/"
        },
        "id": "ditePtihQnTW",
        "outputId": "588b7097-ceb2-414f-cfe7-17edb7abbf60"
      },
      "execution_count": null,
      "outputs": [
        {
          "output_type": "stream",
          "name": "stdout",
          "text": [
            "['1', '2', '3', '4', '5', '6', '7', '8']\n"
          ]
        },
        {
          "output_type": "execute_result",
          "data": {
            "text/plain": [
              "1"
            ]
          },
          "metadata": {},
          "execution_count": 16
        }
      ]
    },
    {
      "cell_type": "code",
      "source": [
        "list3.remove('3')"
      ],
      "metadata": {
        "id": "RKW2uFWiQvEz"
      },
      "execution_count": null,
      "outputs": []
    },
    {
      "cell_type": "code",
      "source": [
        "print(list3)"
      ],
      "metadata": {
        "colab": {
          "base_uri": "https://localhost:8080/"
        },
        "id": "-3uCTR3MR1xc",
        "outputId": "b5579398-5f22-43f7-b0fb-50c765dc75b1"
      },
      "execution_count": null,
      "outputs": [
        {
          "output_type": "stream",
          "name": "stdout",
          "text": [
            "['1', '2', '4', '5', '6', '7', '8']\n"
          ]
        }
      ]
    },
    {
      "cell_type": "code",
      "source": [
        "# Iteration\n",
        "animals= [1, 2.2 ,'cats', 'dogs','monkey']\n",
        "for i in animals:\n",
        "  print (i, type(i))"
      ],
      "metadata": {
        "colab": {
          "base_uri": "https://localhost:8080/"
        },
        "id": "WZCGc-jaR4er",
        "outputId": "f1723d81-87e6-4140-a13d-c36068ba2ff9"
      },
      "execution_count": null,
      "outputs": [
        {
          "output_type": "stream",
          "name": "stdout",
          "text": [
            "1 <class 'int'>\n",
            "2.2 <class 'float'>\n",
            "cats <class 'str'>\n",
            "dogs <class 'str'>\n",
            "monkey <class 'str'>\n"
          ]
        }
      ]
    },
    {
      "cell_type": "code",
      "source": [
        "animals= [1, 2.2 ,'cats', 'dogs','monkey']\n",
        "for i in range(len(animals)):\n",
        "  print(i)"
      ],
      "metadata": {
        "colab": {
          "base_uri": "https://localhost:8080/"
        },
        "id": "t7PckoCbUXuo",
        "outputId": "5f5da5e8-76df-49b3-bdd6-453ed320ec44"
      },
      "execution_count": null,
      "outputs": [
        {
          "output_type": "stream",
          "name": "stdout",
          "text": [
            "0\n",
            "1\n",
            "2\n",
            "3\n",
            "4\n"
          ]
        }
      ]
    },
    {
      "cell_type": "code",
      "source": [
        "for i in range(0,50,2):\n",
        "  print(i, end=\"\\n $\")"
      ],
      "metadata": {
        "colab": {
          "base_uri": "https://localhost:8080/"
        },
        "id": "V3ZzV4TiVEdU",
        "outputId": "cabc21ac-806d-4f30-c803-4325d789fadf"
      },
      "execution_count": null,
      "outputs": [
        {
          "output_type": "stream",
          "name": "stdout",
          "text": [
            "0\n",
            " $2\n",
            " $4\n",
            " $6\n",
            " $8\n",
            " $10\n",
            " $12\n",
            " $14\n",
            " $16\n",
            " $18\n",
            " $20\n",
            " $22\n",
            " $24\n",
            " $26\n",
            " $28\n",
            " $30\n",
            " $32\n",
            " $34\n",
            " $36\n",
            " $38\n",
            " $40\n",
            " $42\n",
            " $44\n",
            " $46\n",
            " $48\n",
            " $"
          ]
        }
      ]
    },
    {
      "cell_type": "code",
      "source": [
        "print(1,2)"
      ],
      "metadata": {
        "colab": {
          "base_uri": "https://localhost:8080/"
        },
        "id": "pXoo6hmPWDtl",
        "outputId": "4f7b7a1e-accf-4275-f722-7f156b55298e"
      },
      "execution_count": null,
      "outputs": [
        {
          "output_type": "stream",
          "name": "stdout",
          "text": [
            "1 2\n"
          ]
        }
      ]
    },
    {
      "cell_type": "code",
      "source": [
        "print(1,2, sep=\";\")"
      ],
      "metadata": {
        "colab": {
          "base_uri": "https://localhost:8080/"
        },
        "id": "acTVDpP3WzFn",
        "outputId": "94512d7d-3e17-45ba-eb7c-66da80407586"
      },
      "execution_count": null,
      "outputs": [
        {
          "output_type": "stream",
          "name": "stdout",
          "text": [
            "1;2\n"
          ]
        }
      ]
    },
    {
      "cell_type": "code",
      "source": [
        "# Enumerate will return a tuple\n",
        "animals=['cat', 'dog','monkey']\n",
        "list(enumerate(animals))"
      ],
      "metadata": {
        "colab": {
          "base_uri": "https://localhost:8080/"
        },
        "id": "UA-rIImeXAhv",
        "outputId": "f961c177-fbb9-47fc-f362-6e2139380eca"
      },
      "execution_count": null,
      "outputs": [
        {
          "output_type": "execute_result",
          "data": {
            "text/plain": [
              "[(0, 'cat'), (1, 'dog'), (2, 'monkey')]"
            ]
          },
          "metadata": {},
          "execution_count": 41
        }
      ]
    },
    {
      "cell_type": "code",
      "source": [
        "animals=['cat', 'dog','monkey']\n",
        "for idx, animals in enumerate(animals):\n",
        "  print(f\"(idx): (animals)\")\n"
      ],
      "metadata": {
        "colab": {
          "base_uri": "https://localhost:8080/"
        },
        "id": "hIYIyuqqXdGO",
        "outputId": "f05af173-aec0-4119-ce2f-7c7c98855c23"
      },
      "execution_count": null,
      "outputs": [
        {
          "output_type": "stream",
          "name": "stdout",
          "text": [
            "(idx): (animals)\n",
            "(idx): (animals)\n",
            "(idx): (animals)\n"
          ]
        }
      ]
    },
    {
      "cell_type": "code",
      "source": [
        "animals=['cat', 'dog','monkey']\n",
        "for idx, animals in enumerate(animals):\n",
        "  print(\"(): ()\")\n"
      ],
      "metadata": {
        "colab": {
          "base_uri": "https://localhost:8080/"
        },
        "id": "yuCZ3ufVX_Qx",
        "outputId": "b574af1c-0abe-4966-fad7-dfc6cb61ecbe"
      },
      "execution_count": null,
      "outputs": [
        {
          "output_type": "stream",
          "name": "stdout",
          "text": [
            "[4, 16]\n"
          ]
        }
      ]
    },
    {
      "cell_type": "code",
      "source": [
        "# List Comprehension\n",
        "\n",
        "nums=[1,2,3,4]\n",
        "square=[i**2 for i in nums]\n",
        "print(square)"
      ],
      "metadata": {
        "colab": {
          "base_uri": "https://localhost:8080/"
        },
        "id": "qEAwIxq4Y9IX",
        "outputId": "705f0f45-d877-45be-e8cb-49fc7f20456a"
      },
      "execution_count": null,
      "outputs": [
        {
          "output_type": "stream",
          "name": "stdout",
          "text": [
            "[1, 4, 9, 16]\n"
          ]
        }
      ]
    },
    {
      "cell_type": "code",
      "source": [
        "nums=[1,2,3,4]\n",
        "square=[]\n",
        "for i in nums:\n",
        "  if i%2 == 0:\n",
        "    square.append(i**2)\n",
        "  else:\n",
        "    print (square)\n",
        "print(square)"
      ],
      "metadata": {
        "colab": {
          "base_uri": "https://localhost:8080/"
        },
        "id": "RqgDOHN0ZvdL",
        "outputId": "b2770695-3893-4f73-e886-3e41a0071759"
      },
      "execution_count": null,
      "outputs": [
        {
          "output_type": "stream",
          "name": "stdout",
          "text": [
            "[]\n",
            "[4]\n",
            "[4, 16]\n"
          ]
        }
      ]
    },
    {
      "cell_type": "code",
      "source": [
        "# List Comprehension\n",
        "\n",
        "nums=[1,2,3,4]\n",
        "square=[i**2 for i in nums if i%2==0]\n",
        "print(square)"
      ],
      "metadata": {
        "colab": {
          "base_uri": "https://localhost:8080/"
        },
        "id": "-3ghHwpAal8D",
        "outputId": "f67ae057-eecb-49d6-b346-79ce26f5edb2"
      },
      "execution_count": null,
      "outputs": [
        {
          "output_type": "stream",
          "name": "stdout",
          "text": [
            "[4, 16]\n"
          ]
        }
      ]
    },
    {
      "cell_type": "code",
      "source": [
        "print(square)"
      ],
      "metadata": {
        "colab": {
          "base_uri": "https://localhost:8080/"
        },
        "id": "-q89tZZcbCKl",
        "outputId": "eecf5e8b-0ed2-4e4b-e57e-cf00d2cf76f2"
      },
      "execution_count": null,
      "outputs": [
        {
          "output_type": "stream",
          "name": "stdout",
          "text": [
            "[4, 16]\n"
          ]
        }
      ]
    },
    {
      "cell_type": "markdown",
      "source": [
        "#Dictionaries (For Key and Value pairs)\n",
        "## Key value should be integer or string not float"
      ],
      "metadata": {
        "id": "hJZNkQKKb4qT"
      }
    },
    {
      "cell_type": "code",
      "source": [
        "students ={'name': 'abc', 'gender': 'male' ,'age': 'forthy'}"
      ],
      "metadata": {
        "id": "n3hSOK99bX4E"
      },
      "execution_count": null,
      "outputs": []
    },
    {
      "cell_type": "code",
      "source": [
        "print(students)"
      ],
      "metadata": {
        "colab": {
          "base_uri": "https://localhost:8080/"
        },
        "id": "xzRRSBkkdWXh",
        "outputId": "d5575f4b-f46c-4116-c4cb-8deb7edf1a7d"
      },
      "execution_count": null,
      "outputs": [
        {
          "output_type": "stream",
          "name": "stdout",
          "text": [
            "{'name': 'abc', 'gender': 'male', 'age': 'forthy'}\n"
          ]
        }
      ]
    },
    {
      "cell_type": "code",
      "source": [
        "print(students.get('forty'))"
      ],
      "metadata": {
        "colab": {
          "base_uri": "https://localhost:8080/"
        },
        "id": "Fb4MNmJbepoz",
        "outputId": "9cb0457b-d024-4e5f-e699-d4b0c4419cbc"
      },
      "execution_count": null,
      "outputs": [
        {
          "output_type": "stream",
          "name": "stdout",
          "text": [
            "None\n"
          ]
        }
      ]
    },
    {
      "cell_type": "code",
      "source": [
        "students ={\"student1\": {\"age\":20, \"name\":\"Mudasar\"},\n",
        "          \"student2\": {\"age\":30, \"name\":\"Memon\"},\n",
        "          \"students\": {1: \"student1\", 2: \"student2\"}\n",
        "}"
      ],
      "metadata": {
        "id": "-6DoKFDdewrt"
      },
      "execution_count": null,
      "outputs": []
    },
    {
      "cell_type": "code",
      "source": [
        "students.items()"
      ],
      "metadata": {
        "colab": {
          "base_uri": "https://localhost:8080/"
        },
        "id": "NIJePgVbfkeI",
        "outputId": "6f06a276-2639-4f97-c722-f47147fac0b7"
      },
      "execution_count": null,
      "outputs": [
        {
          "output_type": "execute_result",
          "data": {
            "text/plain": [
              "dict_items([('student1', {'age': 20, 'name': 'Mudasar'}), ('student2', {'age': 30, 'name': 'Memon'}), ('students', {1: 'student1', 2: 'student2'})])"
            ]
          },
          "metadata": {},
          "execution_count": 67
        }
      ]
    },
    {
      "cell_type": "code",
      "source": [
        "for key in students.items():\n",
        "  print(key)"
      ],
      "metadata": {
        "colab": {
          "base_uri": "https://localhost:8080/"
        },
        "id": "kL6j-Ps_hLzs",
        "outputId": "26e902ce-b30b-49c8-f958-64a3691cc782"
      },
      "execution_count": null,
      "outputs": [
        {
          "output_type": "stream",
          "name": "stdout",
          "text": [
            "('student1', {'age': 20, 'name': 'Mudasar'})\n",
            "('student2', {'age': 30, 'name': 'Memon'})\n",
            "('students', {1: 'student1', 2: 'student2'})\n"
          ]
        }
      ]
    },
    {
      "cell_type": "code",
      "source": [
        "students.pop('student2')"
      ],
      "metadata": {
        "colab": {
          "base_uri": "https://localhost:8080/"
        },
        "id": "ox1Y9QojhXG8",
        "outputId": "0c652afa-1fc0-4728-a962-0df43d5cbd5a"
      },
      "execution_count": null,
      "outputs": [
        {
          "output_type": "execute_result",
          "data": {
            "text/plain": [
              "{'age': 30, 'name': 'Memon'}"
            ]
          },
          "metadata": {},
          "execution_count": 74
        }
      ]
    },
    {
      "cell_type": "markdown",
      "source": [
        "#LAB 6: Dictionaries in Python"
      ],
      "metadata": {
        "id": "huShvh5ujTCD"
      }
    },
    {
      "cell_type": "markdown",
      "source": [
        "\n",
        "## Create a dictionary called \"student\" with following key-value pair: \"name\", \"age\", \"major\"\n",
        "\n"
      ],
      "metadata": {
        "id": "0IUR9SVfjuV5"
      }
    },
    {
      "cell_type": "code",
      "source": [
        "#1\n",
        "student= {\"age\":20, \"name\":\"Mudasar\", \"major\": \"computer\"}\n",
        "print(student)"
      ],
      "metadata": {
        "colab": {
          "base_uri": "https://localhost:8080/"
        },
        "id": "KHef6fRAiP5l",
        "outputId": "37820764-2b51-4fd7-861c-e3c5bc2838c5"
      },
      "execution_count": null,
      "outputs": [
        {
          "output_type": "stream",
          "name": "stdout",
          "text": [
            "{'age': 20, 'name': 'Mudasar', 'major': 'computer'}\n"
          ]
        }
      ]
    },
    {
      "cell_type": "code",
      "source": [
        "#2\n",
        "student['gpa']=3.2\n",
        "print(student)"
      ],
      "metadata": {
        "colab": {
          "base_uri": "https://localhost:8080/"
        },
        "id": "3gFfjfaSjtCe",
        "outputId": "d83b4a98-5669-4114-f8f0-4b85696b181f"
      },
      "execution_count": null,
      "outputs": [
        {
          "output_type": "stream",
          "name": "stdout",
          "text": [
            "{'age': 20, 'name': 'Mudasar', 'major': 'computer', 'gpa': 3.2}\n"
          ]
        }
      ]
    },
    {
      "cell_type": "code",
      "source": [
        "#3\n",
        "student_major=student.get(\"major\")\n",
        "print(student_major)"
      ],
      "metadata": {
        "colab": {
          "base_uri": "https://localhost:8080/"
        },
        "id": "LO0t2cwykw7p",
        "outputId": "9bd336f5-8c4d-4b19-ad77-077dac328f7c"
      },
      "execution_count": null,
      "outputs": [
        {
          "output_type": "stream",
          "name": "stdout",
          "text": [
            "computer\n"
          ]
        }
      ]
    },
    {
      "cell_type": "code",
      "source": [
        "#4\n",
        "grades={\"Programing\": \"A+\", \"course2\": \"A\"}"
      ],
      "metadata": {
        "id": "_wsJBIEelxLQ"
      },
      "execution_count": null,
      "outputs": []
    },
    {
      "cell_type": "code",
      "source": [
        "#5\n",
        "student['courses']=grades\n",
        "print(student)"
      ],
      "metadata": {
        "colab": {
          "base_uri": "https://localhost:8080/"
        },
        "id": "Aq5QJFOtmvyh",
        "outputId": "118b3a23-6689-48c1-d30f-ae7a2c47c1a3"
      },
      "execution_count": null,
      "outputs": [
        {
          "output_type": "stream",
          "name": "stdout",
          "text": [
            "{'age': 20, 'name': 'Mudasar', 'major': 'computer', 'gpa': 3.2, 'courses': {'Programing': 'A+', 'course2': 'A'}}\n"
          ]
        }
      ]
    },
    {
      "cell_type": "code",
      "source": [
        "#6\n",
        "for i in student['courses']:\n",
        "  print(i, student['courses'][i])"
      ],
      "metadata": {
        "colab": {
          "base_uri": "https://localhost:8080/"
        },
        "id": "Q974YHTSm5OX",
        "outputId": "25ffb66c-c03d-4770-81d0-506e8c6991de"
      },
      "execution_count": null,
      "outputs": [
        {
          "output_type": "stream",
          "name": "stdout",
          "text": [
            "Programing A+\n",
            "course2 A\n"
          ]
        }
      ]
    },
    {
      "cell_type": "code",
      "source": [
        "#6\n",
        "for i in student['courses']:\n",
        "  print(i, student['courses'].get(i))"
      ],
      "metadata": {
        "colab": {
          "base_uri": "https://localhost:8080/"
        },
        "id": "9ZZVzWBHnqo1",
        "outputId": "4e5228dc-7630-4724-edb7-283e0c186c5f"
      },
      "execution_count": null,
      "outputs": [
        {
          "output_type": "stream",
          "name": "stdout",
          "text": [
            "Programing A+\n",
            "course2 A\n"
          ]
        }
      ]
    },
    {
      "cell_type": "code",
      "source": [],
      "metadata": {
        "id": "rV-WCbIKq3ER"
      },
      "execution_count": null,
      "outputs": []
    }
  ]
}